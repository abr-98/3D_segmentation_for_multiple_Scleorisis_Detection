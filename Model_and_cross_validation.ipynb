{
  "nbformat": 4,
  "nbformat_minor": 0,
  "metadata": {
    "colab": {
      "name": "Model_and_cross_validation.ipynb",
      "provenance": [],
      "collapsed_sections": [],
      "machine_shape": "hm"
    },
    "kernelspec": {
      "name": "python3",
      "display_name": "Python 3"
    },
    "accelerator": "GPU"
  },
  "cells": [
    {
      "cell_type": "markdown",
      "metadata": {
        "id": "2QR-3dEjBmy9",
        "colab_type": "text"
      },
      "source": [
        "## Drive Mounter"
      ]
    },
    {
      "cell_type": "code",
      "metadata": {
        "id": "mQj80MyKBlcD",
        "colab_type": "code",
        "outputId": "0c5120ca-6337-43b1-87d5-cbf53df5c1cd",
        "colab": {
          "base_uri": "https://localhost:8080/",
          "height": 122
        }
      },
      "source": [
        "from google.colab import drive\n",
        "drive.mount('/content/drive')"
      ],
      "execution_count": 0,
      "outputs": [
        {
          "output_type": "stream",
          "text": [
            "Go to this URL in a browser: https://accounts.google.com/o/oauth2/auth?client_id=947318989803-6bn6qk8qdgf4n4g3pfee6491hc0brc4i.apps.googleusercontent.com&redirect_uri=urn%3aietf%3awg%3aoauth%3a2.0%3aoob&response_type=code&scope=email%20https%3a%2f%2fwww.googleapis.com%2fauth%2fdocs.test%20https%3a%2f%2fwww.googleapis.com%2fauth%2fdrive%20https%3a%2f%2fwww.googleapis.com%2fauth%2fdrive.photos.readonly%20https%3a%2f%2fwww.googleapis.com%2fauth%2fpeopleapi.readonly\n",
            "\n",
            "Enter your authorization code:\n",
            "··········\n",
            "Mounted at /content/drive\n"
          ],
          "name": "stdout"
        }
      ]
    },
    {
      "cell_type": "markdown",
      "metadata": {
        "id": "kpuTVZx4mM2z",
        "colab_type": "text"
      },
      "source": [
        "## Set up tensorBoard"
      ]
    },
    {
      "cell_type": "code",
      "metadata": {
        "id": "Jm6tjIXixazT",
        "colab_type": "code",
        "outputId": "71022ceb-dc5b-4899-b788-b2126cee6f7b",
        "colab": {
          "base_uri": "https://localhost:8080/",
          "height": 51
        }
      },
      "source": [
        "%load_ext tensorboard"
      ],
      "execution_count": 0,
      "outputs": [
        {
          "output_type": "stream",
          "text": [
            "The tensorboard extension is already loaded. To reload it, use:\n",
            "  %reload_ext tensorboard\n"
          ],
          "name": "stdout"
        }
      ]
    },
    {
      "cell_type": "code",
      "metadata": {
        "id": "YDTBWvJwyXXj",
        "colab_type": "code",
        "outputId": "c65366c7-ef32-4947-fe19-274f1bc0454c",
        "colab": {
          "base_uri": "https://localhost:8080/",
          "height": 821
        }
      },
      "source": [
        "%tensorboard --logdir logs"
      ],
      "execution_count": 0,
      "outputs": []
    },
    {
      "cell_type": "code",
      "metadata": {
        "id": "VvO5IFcczJxK",
        "colab_type": "code",
        "outputId": "c2318788-e96d-4e4f-add1-a4fed8d72120",
        "colab": {
          "base_uri": "https://localhost:8080/",
          "height": 51
        }
      },
      "source": [
        "from tensorboard import notebook\n",
        "notebook.list() "
      ],
      "execution_count": 0,
      "outputs": [
        {
          "output_type": "stream",
          "text": [
            "Known TensorBoard instances:\n",
            "  - port 6006: logdir logs (started 0:00:01 ago; pid 331)\n"
          ],
          "name": "stdout"
        }
      ]
    },
    {
      "cell_type": "code",
      "metadata": {
        "id": "2sVsUoYTzKjH",
        "colab_type": "code",
        "outputId": "9807e88b-d4f7-40ef-9a20-d91bd5b7f099",
        "colab": {
          "base_uri": "https://localhost:8080/",
          "height": 1000
        }
      },
      "source": [
        "notebook.display(port=6006, height=1000)"
      ],
      "execution_count": 0,
      "outputs": []
    },
    {
      "cell_type": "markdown",
      "metadata": {
        "id": "-NBU1GlMXXdL",
        "colab_type": "text"
      },
      "source": [
        "## Modelling "
      ]
    },
    {
      "cell_type": "code",
      "metadata": {
        "id": "5Q9yZ9dwXWen",
        "colab_type": "code",
        "outputId": "e15cf403-6462-472e-c0e1-ab8000d99c6e",
        "colab": {
          "base_uri": "https://localhost:8080/",
          "height": 34
        }
      },
      "source": [
        "import tensorflow as tf\n",
        "import numpy as np\n",
        "\n",
        "import keras\n",
        "from keras.models import Model, load_model\n",
        "from keras.layers import Input ,BatchNormalization , Activation \n",
        "from keras.layers.convolutional import Conv2D, UpSampling2D\n",
        "from keras.layers.pooling import MaxPooling2D\n",
        "from keras.layers.merge import concatenate\n",
        "\n",
        "\n",
        "def Convolution(input_tensor,filters):\n",
        "    \n",
        "    x = Conv2D(filters=filters,kernel_size=(3, 3),padding = 'same',strides=(1, 1))(input_tensor)\n",
        "    x = BatchNormalization()(x)\n",
        "    x = Activation('relu')(x) \n",
        "    return x\n",
        "\n",
        "def model(input_shape):\n",
        "    \n",
        "    inputs = Input((input_shape))\n",
        "    \n",
        "    conv_1 = Convolution(inputs,32)\n",
        "    \n",
        "    maxp_1 = MaxPooling2D(pool_size = (2, 2), strides = (2, 2), padding = 'same') (conv_1)\n",
        "    \n",
        "    conv_2 = Convolution(maxp_1,64)\n",
        "    maxp_2 = MaxPooling2D(pool_size = (2, 2), strides = (2, 2), padding = 'same') (conv_2)\n",
        "    \n",
        "    conv_3 = Convolution(maxp_2,128)\n",
        "    \n",
        "    maxp_3 = MaxPooling2D(pool_size = (2, 2), strides = (2, 2), padding = 'same') (conv_3)\n",
        "    \n",
        "    conv_4 = Convolution(maxp_3,256)\n",
        "    maxp_4 = MaxPooling2D(pool_size = (2, 2), strides = (2, 2), padding = 'same') (conv_4)\n",
        "    \n",
        "    conv_5 = Convolution(maxp_4,512)\n",
        "   \n",
        "    upsample_6 = UpSampling2D((2, 2)) (conv_5)\n",
        "\n",
        "    upsample_6 = concatenate([upsample_6, conv_4])\n",
        "    \n",
        "    conv_6 = Convolution(upsample_6,256)\n",
        "    upsample_7 = UpSampling2D((2, 2)) (conv_6)\n",
        "    \n",
        "    upsample_7 = concatenate([upsample_7, conv_3])\n",
        "    \n",
        "    conv_7 = Convolution(upsample_7,128)\n",
        "    upsample_8 = UpSampling2D((2, 2)) (conv_7)\n",
        "    \n",
        "    upsample_8 = concatenate([upsample_8, conv_2])\n",
        "\n",
        "    conv_8 = Convolution(upsample_8,64)\n",
        "    upsample_9 = UpSampling2D((2, 2)) (conv_8)\n",
        "    \n",
        "    upsample_9 = concatenate([upsample_9, conv_1])\n",
        "    \n",
        "    conv_9 = Convolution(upsample_9,32)\n",
        "    outputs = Conv2D(1, (1, 1), activation='sigmoid') (conv_9)\n",
        "    \n",
        "    model = Model(inputs=[inputs], outputs=[outputs]) \n",
        "    \n",
        "    return model"
      ],
      "execution_count": 0,
      "outputs": [
        {
          "output_type": "stream",
          "text": [
            "Using TensorFlow backend.\n"
          ],
          "name": "stderr"
        }
      ]
    },
    {
      "cell_type": "markdown",
      "metadata": {
        "id": "bz07lh2tBbeF",
        "colab_type": "text"
      },
      "source": [
        "## Dataset loading"
      ]
    },
    {
      "cell_type": "code",
      "metadata": {
        "id": "cmhOZtMZTiBp",
        "colab_type": "code",
        "colab": {}
      },
      "source": [
        "path='drive/My Drive/MS_data_k_fold/'"
      ],
      "execution_count": 0,
      "outputs": []
    },
    {
      "cell_type": "code",
      "metadata": {
        "id": "-lDhPZE6UKj2",
        "colab_type": "code",
        "colab": {}
      },
      "source": [
        "import os\n",
        "ext=\"Prepared_data\"\n",
        "fldr=path+ext"
      ],
      "execution_count": 0,
      "outputs": []
    },
    {
      "cell_type": "code",
      "metadata": {
        "id": "ulq3RxsGVn6K",
        "colab_type": "code",
        "colab": {}
      },
      "source": [
        "import os\n",
        "import numpy as np\n",
        "import pandas as pd\n",
        "\n",
        "def return_sets(i,fldr):\n",
        "  sub_fldr=fldr+'/'+str(i)\n",
        "  k=os.listdir(sub_fldr)\n",
        "  for fl in k:\n",
        "    if 'test' in fl:\n",
        "      test_X=sub_fldr+'/'+fl+'/X.npy'\n",
        "      X_test=np.load(test_X)\n",
        "      test_Y=sub_fldr+'/'+fl+'/Y.npy'\n",
        "      Y_test=np.load(test_Y)\n",
        "    if 'train' in fl:\n",
        "      train_X=sub_fldr+'/'+fl+'/X.npy'\n",
        "      X_train=np.load(train_X)\n",
        "      train_Y=sub_fldr+'/'+fl+'/Y.npy'\n",
        "      Y_train=np.load(train_Y)\n",
        "    if 'validate' in fl:\n",
        "      validate_X=sub_fldr+'/'+fl+'/X.npy'\n",
        "      X_validate=np.load(validate_X)\n",
        "      validate_Y=sub_fldr+'/'+fl+'/Y.npy'\n",
        "      Y_validate=np.load(validate_Y)\n",
        "  return X_test,Y_test,X_train,Y_train,X_validate,Y_validate"
      ],
      "execution_count": 0,
      "outputs": []
    },
    {
      "cell_type": "markdown",
      "metadata": {
        "id": "yzWO21F2dQzY",
        "colab_type": "text"
      },
      "source": [
        "## Performance Metrices"
      ]
    },
    {
      "cell_type": "code",
      "metadata": {
        "id": "olNo4xImdLHQ",
        "colab_type": "code",
        "colab": {}
      },
      "source": [
        "from keras import backend as K\n",
        "import numpy as np\n",
        "import tensorflow as tf\n",
        "\n",
        "# Computing Dice_Coefficient\n",
        "def dice_coef(y_true, y_pred, smooth=1.0):\n",
        "    y_true_f = K.flatten(y_true)\n",
        "    y_pred_f = K.flatten(y_pred)\n",
        "    intersection = K.sum(y_true_f * y_pred_f)\n",
        "    return (2. * intersection + smooth) / (K.sum(y_true_f) + K.sum(y_pred_f) + smooth)\n",
        "\n",
        "# Computing Precision \n",
        "def precision(y_true, y_pred):\n",
        "        true_positives = K.sum(K.round(K.clip(y_true * y_pred, 0, 1)))\n",
        "        predicted_positives = K.sum(K.round(K.clip(y_pred, 0, 1)))\n",
        "        precision = true_positives / (predicted_positives + K.epsilon())\n",
        "        return precision\n",
        "\n",
        "# Computing Sensitivity      \n",
        "def sensitivity(y_true, y_pred):\n",
        "    true_positives = K.sum(K.round(K.clip(y_true * y_pred, 0, 1)))\n",
        "    possible_positives = K.sum(K.round(K.clip(y_true, 0, 1)))\n",
        "    return true_positives / (possible_positives + K.epsilon())\n",
        "\n",
        "# Computing Specificity\n",
        "def specificity(y_true, y_pred):\n",
        "    true_negatives = K.sum(K.round(K.clip((1-y_true) * (1-y_pred), 0, 1)))\n",
        "    possible_negatives = K.sum(K.round(K.clip(1-y_true, 0, 1)))\n",
        "    return true_negatives / (possible_negatives + K.epsilon())"
      ],
      "execution_count": 0,
      "outputs": []
    },
    {
      "cell_type": "markdown",
      "metadata": {
        "id": "oc2iNvecegZ4",
        "colab_type": "text"
      },
      "source": [
        "## Accuracy Plots"
      ]
    },
    {
      "cell_type": "code",
      "metadata": {
        "id": "XD8LoTpnegEg",
        "colab_type": "code",
        "colab": {}
      },
      "source": [
        "import numpy as np\n",
        "import matplotlib.pyplot as plt\n",
        "\n",
        "# Accuracy vs Epoch\n",
        "def Accuracy_Graph(history,i,fldr):\n",
        "    plt.plot(history.history['accuracy'])\n",
        "    plt.plot(history.history['val_accuracy'])\n",
        "    #plt.title('Model accuracy')\n",
        "    plt.ylabel('Accuracy')\n",
        "    plt.xlabel('Epoch')\n",
        "    plt.legend(['Train', 'Validation'], loc='upper left')\n",
        "    plt.subplots_adjust(top=1.00, bottom=0.0, left=0.0, right=0.95, hspace=0.25,\n",
        "                        wspace=0.35)\n",
        "    file_1=fldr+'/'+str(i)+'/Accuracy.png'\n",
        "    plt.savefig(file_1)\n",
        "    plt.show()\n",
        "    \n",
        "# Dice Similarity Coefficient vs Epoch\n",
        "def Dice_coefficient_Graph(history,i,fldr):\n",
        "\n",
        "    plt.plot(history.history['dice_coef'])\n",
        "    plt.plot(history.history['val_dice_coef'])\n",
        "    #plt.title('Dice_Coefficient')\n",
        "    plt.ylabel('Dice_Coefficient')\n",
        "    plt.xlabel('Epoch')\n",
        "    plt.legend(['Train', 'Validation'], loc='upper left')\n",
        "    plt.subplots_adjust(top=1.00, bottom=0.0, left=0.0, right=0.95, hspace=0.25,\n",
        "                        wspace=0.35)\n",
        "    file_1=fldr+'/'+str(i)+'/Dice_coef.png'\n",
        "    plt.savefig(file_1)\n",
        "    plt.show()\n",
        "# Loss vs Epoch\n",
        "def Loss_Graph(history,i,fldr):\n",
        "\n",
        "    plt.plot(history.history['loss'])\n",
        "    plt.plot(history.history['val_loss'])\n",
        "    #plt.title('Model loss')\n",
        "    plt.ylabel('Loss')\n",
        "    plt.xlabel('Epoch')\n",
        "    plt.legend(['Train', 'Validation'], loc='upper left')\n",
        "    plt.subplots_adjust(top=1.00, bottom=0.0, left=0.0, right=0.95, hspace=0.25,\n",
        "                        wspace=0.35)\n",
        "    file_1=fldr+'/'+str(i)+'/Loss.png'\n",
        "    plt.savefig(file_1)\n",
        "    plt.show()"
      ],
      "execution_count": 0,
      "outputs": []
    },
    {
      "cell_type": "markdown",
      "metadata": {
        "id": "_7UfgkOdcDoR",
        "colab_type": "text"
      },
      "source": [
        "## Model executer"
      ]
    },
    {
      "cell_type": "code",
      "metadata": {
        "id": "oDs3xd0_cdIc",
        "colab_type": "code",
        "colab": {}
      },
      "source": [
        "import numpy as np\n",
        "import matplotlib.pyplot as plt\n",
        "import tensorflow as tf\n",
        "from sklearn.model_selection import train_test_split\n",
        "import json\n",
        "#import keras\n",
        "from tensorflow.keras.models import Model, load_model\n",
        "from tensorflow.keras.layers import Input ,BatchNormalization , Activation \n",
        "from tensorflow.keras.layers import Conv2D, UpSampling2D\n",
        "from tensorflow.keras.layers import MaxPooling2D\n",
        "from tensorflow.keras.layers import concatenate\n",
        "from tensorflow.keras.callbacks import EarlyStopping, ModelCheckpoint\n",
        "from tensorflow.keras.optimizers import Adam\n",
        "import datetime\n",
        "\n",
        "\n",
        "\n",
        "def executer(type_1,model,X_test,Y_test,X_train,Y_train,X_validate,Y_validate,fldr,i):\n",
        "  logdir = os.path.join(\"logs\", datetime.datetime.now().strftime(\"%Y%m%d-%H%M%S\"))\n",
        "  tensorboard_callback = tf.keras.callbacks.TensorBoard(logdir, histogram_freq=1)\n",
        "  #model = model(input_shape = (256,256,5))\n",
        "  model.summary()\n",
        "  file_1=fldr+'/'+str(i)+'/'+'Modified_UNet_'+type_1+'.h5'\n",
        "  checkpointer = ModelCheckpoint(file_1, verbose=1)\n",
        "  callback_list=[checkpointer,tensorboard_callback]\n",
        "  record_file=fldr+'/'+str(i)+'/record.json'\n",
        "  if os.path.exists(record_file):\n",
        "    f=open(record_file,'r')\n",
        "    data=json.load(f)\n",
        "  else:\n",
        "    data={}\n",
        "  # Compiling the model\n",
        "  k_adam=Adam(lr=0.001)\n",
        "  model.compile(optimizer=k_adam, loss='binary_crossentropy', metrics=['accuracy',dice_coef,precision,sensitivity,specificity])\n",
        "  # Fitting the model over the data\n",
        "  history = model.fit(X_train,Y_train,validation_data=(X_validate,Y_validate),batch_size=32,epochs=60,validation_split=0.20,verbose=1,initial_epoch=0,callbacks=callback_list)\n",
        "\n",
        "  # Saving the model\n",
        "  model.save(file_1)\n",
        "  history.history\n",
        "\n",
        "  # Evaluating the model on the training and testing data \n",
        "  train_eval=model.evaluate(x=X_train, y=Y_train, batch_size=32 , verbose=1, sample_weight=None, steps=None)\n",
        "  test_eval=model.evaluate(x=X_test, y=Y_test, batch_size=32, verbose=1, sample_weight=None, steps=None)\n",
        "  data[str(i)]={}\n",
        "  data[str(i)][\"training\"]=train_eval\n",
        "  data[str(i)][\"testing\"]=test_eval\n",
        "\n",
        "  with open(record_file, \"w\") as outfile:\n",
        "\t\t\tjson.dump(data, outfile)\n",
        "  # Plotting the Graphs of Accuracy, Dice_coefficient, Loss at each epoch on Training and Testing data\n",
        " \n",
        "\n",
        "  return history\n"
      ],
      "execution_count": 0,
      "outputs": []
    },
    {
      "cell_type": "markdown",
      "metadata": {
        "id": "aIIklmGAn1ey",
        "colab_type": "text"
      },
      "source": [
        "## Caller"
      ]
    },
    {
      "cell_type": "code",
      "metadata": {
        "id": "L3Ue8STwkbtr",
        "colab_type": "code",
        "colab": {}
      },
      "source": [
        "def caller():\n",
        "  path='drive/My Drive/MS_data_k_fold/'\n",
        "  list_c=['Major']\n",
        "  ext='Prepared_data'\n",
        "  mdl=model(input_shape = (256,256,5))\n",
        "  for i in list_c:\n",
        "    j=3\n",
        "    while j<=3:\n",
        "      fldr=path+i+'/'+ext\n",
        "      X_test,Y_test,X_train,Y_train,X_validate,Y_validate=return_sets(j,fldr)\n",
        "      history=executer(i,mdl,X_test,Y_test,X_train,Y_train,X_validate,Y_validate,fldr,j)\n",
        "      Accuracy_Graph(history,j,fldr)\n",
        "      Dice_coefficient_Graph(history,j,fldr)\n",
        "      Loss_Graph(history,j,fldr)\n",
        "      j+=1"
      ],
      "execution_count": 0,
      "outputs": []
    },
    {
      "cell_type": "markdown",
      "metadata": {
        "id": "qgZnQuDdp-Sc",
        "colab_type": "text"
      },
      "source": [
        "## main"
      ]
    },
    {
      "cell_type": "code",
      "metadata": {
        "id": "WHaf85knp8aK",
        "colab_type": "code",
        "outputId": "36331780-508c-4555-abd9-d788c27996d9",
        "colab": {
          "base_uri": "https://localhost:8080/",
          "height": 1000
        }
      },
      "source": [
        "caller()"
      ],
      "execution_count": 0,
      "outputs": [
        {
          "output_type": "stream",
          "text": [
            "Model: \"model\"\n",
            "__________________________________________________________________________________________________\n",
            "Layer (type)                    Output Shape         Param #     Connected to                     \n",
            "==================================================================================================\n",
            "input_1 (InputLayer)            [(None, 256, 256, 5) 0                                            \n",
            "__________________________________________________________________________________________________\n",
            "conv2d (Conv2D)                 (None, 256, 256, 32) 1472        input_1[0][0]                    \n",
            "__________________________________________________________________________________________________\n",
            "batch_normalization (BatchNorma (None, 256, 256, 32) 128         conv2d[0][0]                     \n",
            "__________________________________________________________________________________________________\n",
            "activation (Activation)         (None, 256, 256, 32) 0           batch_normalization[0][0]        \n",
            "__________________________________________________________________________________________________\n",
            "max_pooling2d (MaxPooling2D)    (None, 128, 128, 32) 0           activation[0][0]                 \n",
            "__________________________________________________________________________________________________\n",
            "conv2d_1 (Conv2D)               (None, 128, 128, 64) 18496       max_pooling2d[0][0]              \n",
            "__________________________________________________________________________________________________\n",
            "batch_normalization_1 (BatchNor (None, 128, 128, 64) 256         conv2d_1[0][0]                   \n",
            "__________________________________________________________________________________________________\n",
            "activation_1 (Activation)       (None, 128, 128, 64) 0           batch_normalization_1[0][0]      \n",
            "__________________________________________________________________________________________________\n",
            "max_pooling2d_1 (MaxPooling2D)  (None, 64, 64, 64)   0           activation_1[0][0]               \n",
            "__________________________________________________________________________________________________\n",
            "conv2d_2 (Conv2D)               (None, 64, 64, 128)  73856       max_pooling2d_1[0][0]            \n",
            "__________________________________________________________________________________________________\n",
            "batch_normalization_2 (BatchNor (None, 64, 64, 128)  512         conv2d_2[0][0]                   \n",
            "__________________________________________________________________________________________________\n",
            "activation_2 (Activation)       (None, 64, 64, 128)  0           batch_normalization_2[0][0]      \n",
            "__________________________________________________________________________________________________\n",
            "max_pooling2d_2 (MaxPooling2D)  (None, 32, 32, 128)  0           activation_2[0][0]               \n",
            "__________________________________________________________________________________________________\n",
            "conv2d_3 (Conv2D)               (None, 32, 32, 256)  295168      max_pooling2d_2[0][0]            \n",
            "__________________________________________________________________________________________________\n",
            "batch_normalization_3 (BatchNor (None, 32, 32, 256)  1024        conv2d_3[0][0]                   \n",
            "__________________________________________________________________________________________________\n",
            "activation_3 (Activation)       (None, 32, 32, 256)  0           batch_normalization_3[0][0]      \n",
            "__________________________________________________________________________________________________\n",
            "max_pooling2d_3 (MaxPooling2D)  (None, 16, 16, 256)  0           activation_3[0][0]               \n",
            "__________________________________________________________________________________________________\n",
            "conv2d_4 (Conv2D)               (None, 16, 16, 512)  1180160     max_pooling2d_3[0][0]            \n",
            "__________________________________________________________________________________________________\n",
            "batch_normalization_4 (BatchNor (None, 16, 16, 512)  2048        conv2d_4[0][0]                   \n",
            "__________________________________________________________________________________________________\n",
            "activation_4 (Activation)       (None, 16, 16, 512)  0           batch_normalization_4[0][0]      \n",
            "__________________________________________________________________________________________________\n",
            "up_sampling2d (UpSampling2D)    (None, 32, 32, 512)  0           activation_4[0][0]               \n",
            "__________________________________________________________________________________________________\n",
            "concatenate (Concatenate)       (None, 32, 32, 768)  0           up_sampling2d[0][0]              \n",
            "                                                                 activation_3[0][0]               \n",
            "__________________________________________________________________________________________________\n",
            "conv2d_5 (Conv2D)               (None, 32, 32, 256)  1769728     concatenate[0][0]                \n",
            "__________________________________________________________________________________________________\n",
            "batch_normalization_5 (BatchNor (None, 32, 32, 256)  1024        conv2d_5[0][0]                   \n",
            "__________________________________________________________________________________________________\n",
            "activation_5 (Activation)       (None, 32, 32, 256)  0           batch_normalization_5[0][0]      \n",
            "__________________________________________________________________________________________________\n",
            "up_sampling2d_1 (UpSampling2D)  (None, 64, 64, 256)  0           activation_5[0][0]               \n",
            "__________________________________________________________________________________________________\n",
            "concatenate_1 (Concatenate)     (None, 64, 64, 384)  0           up_sampling2d_1[0][0]            \n",
            "                                                                 activation_2[0][0]               \n",
            "__________________________________________________________________________________________________\n",
            "conv2d_6 (Conv2D)               (None, 64, 64, 128)  442496      concatenate_1[0][0]              \n",
            "__________________________________________________________________________________________________\n",
            "batch_normalization_6 (BatchNor (None, 64, 64, 128)  512         conv2d_6[0][0]                   \n",
            "__________________________________________________________________________________________________\n",
            "activation_6 (Activation)       (None, 64, 64, 128)  0           batch_normalization_6[0][0]      \n",
            "__________________________________________________________________________________________________\n",
            "up_sampling2d_2 (UpSampling2D)  (None, 128, 128, 128 0           activation_6[0][0]               \n",
            "__________________________________________________________________________________________________\n",
            "concatenate_2 (Concatenate)     (None, 128, 128, 192 0           up_sampling2d_2[0][0]            \n",
            "                                                                 activation_1[0][0]               \n",
            "__________________________________________________________________________________________________\n",
            "conv2d_7 (Conv2D)               (None, 128, 128, 64) 110656      concatenate_2[0][0]              \n",
            "__________________________________________________________________________________________________\n",
            "batch_normalization_7 (BatchNor (None, 128, 128, 64) 256         conv2d_7[0][0]                   \n",
            "__________________________________________________________________________________________________\n",
            "activation_7 (Activation)       (None, 128, 128, 64) 0           batch_normalization_7[0][0]      \n",
            "__________________________________________________________________________________________________\n",
            "up_sampling2d_3 (UpSampling2D)  (None, 256, 256, 64) 0           activation_7[0][0]               \n",
            "__________________________________________________________________________________________________\n",
            "concatenate_3 (Concatenate)     (None, 256, 256, 96) 0           up_sampling2d_3[0][0]            \n",
            "                                                                 activation[0][0]                 \n",
            "__________________________________________________________________________________________________\n",
            "conv2d_8 (Conv2D)               (None, 256, 256, 32) 27680       concatenate_3[0][0]              \n",
            "__________________________________________________________________________________________________\n",
            "batch_normalization_8 (BatchNor (None, 256, 256, 32) 128         conv2d_8[0][0]                   \n",
            "__________________________________________________________________________________________________\n",
            "activation_8 (Activation)       (None, 256, 256, 32) 0           batch_normalization_8[0][0]      \n",
            "__________________________________________________________________________________________________\n",
            "conv2d_9 (Conv2D)               (None, 256, 256, 1)  33          activation_8[0][0]               \n",
            "==================================================================================================\n",
            "Total params: 3,925,633\n",
            "Trainable params: 3,922,689\n",
            "Non-trainable params: 2,944\n",
            "__________________________________________________________________________________________________\n",
            "Epoch 1/60\n",
            "42/42 [==============================] - ETA: 0s - loss: 0.4679 - accuracy: 0.9112 - dice_coef: 0.0427 - precision: 0.4619 - sensitivity: 0.8069 - specificity: 0.9129\n",
            "Epoch 00001: saving model to drive/My Drive/MS_data_k_fold/Major/Prepared_data/3/Modified_UNet_Major.h5\n",
            "42/42 [==============================] - 56s 1s/step - loss: 0.4679 - accuracy: 0.9112 - dice_coef: 0.0427 - precision: 0.4619 - sensitivity: 0.8069 - specificity: 0.9129 - val_loss: 0.4503 - val_accuracy: 0.9796 - val_dice_coef: 0.0204 - val_precision: 0.1096 - val_sensitivity: 0.6376 - val_specificity: 0.9811\n",
            "Epoch 2/60\n",
            "42/42 [==============================] - ETA: 0s - loss: 0.2268 - accuracy: 0.9956 - dice_coef: 0.0672 - precision: 0.7744 - sensitivity: 0.7525 - specificity: 0.9979\n",
            "Epoch 00002: saving model to drive/My Drive/MS_data_k_fold/Major/Prepared_data/3/Modified_UNet_Major.h5\n",
            "42/42 [==============================] - 49s 1s/step - loss: 0.2268 - accuracy: 0.9956 - dice_coef: 0.0672 - precision: 0.7744 - sensitivity: 0.7525 - specificity: 0.9979 - val_loss: 0.2627 - val_accuracy: 0.9971 - val_dice_coef: 0.0306 - val_precision: 0.5766 - val_sensitivity: 0.3758 - val_specificity: 0.9995\n",
            "Epoch 3/60\n",
            "42/42 [==============================] - ETA: 0s - loss: 0.1544 - accuracy: 0.9964 - dice_coef: 0.0870 - precision: 0.8624 - sensitivity: 0.7158 - specificity: 0.9990\n",
            "Epoch 00003: saving model to drive/My Drive/MS_data_k_fold/Major/Prepared_data/3/Modified_UNet_Major.h5\n",
            "42/42 [==============================] - 50s 1s/step - loss: 0.1544 - accuracy: 0.9964 - dice_coef: 0.0870 - precision: 0.8624 - sensitivity: 0.7158 - specificity: 0.9990 - val_loss: 0.1995 - val_accuracy: 0.9973 - val_dice_coef: 0.0430 - val_precision: 0.6048 - val_sensitivity: 0.3821 - val_specificity: 0.9995\n",
            "Epoch 4/60\n",
            "42/42 [==============================] - ETA: 0s - loss: 0.1146 - accuracy: 0.9964 - dice_coef: 0.1099 - precision: 0.8879 - sensitivity: 0.6942 - specificity: 0.9992\n",
            "Epoch 00004: saving model to drive/My Drive/MS_data_k_fold/Major/Prepared_data/3/Modified_UNet_Major.h5\n",
            "42/42 [==============================] - 50s 1s/step - loss: 0.1146 - accuracy: 0.9964 - dice_coef: 0.1099 - precision: 0.8879 - sensitivity: 0.6942 - specificity: 0.9992 - val_loss: 0.1419 - val_accuracy: 0.9974 - val_dice_coef: 0.0596 - val_precision: 0.6075 - val_sensitivity: 0.4367 - val_specificity: 0.9994\n",
            "Epoch 5/60\n",
            "42/42 [==============================] - ETA: 0s - loss: 0.0866 - accuracy: 0.9965 - dice_coef: 0.1403 - precision: 0.8988 - sensitivity: 0.6881 - specificity: 0.9993\n",
            "Epoch 00005: saving model to drive/My Drive/MS_data_k_fold/Major/Prepared_data/3/Modified_UNet_Major.h5\n",
            "42/42 [==============================] - 50s 1s/step - loss: 0.0866 - accuracy: 0.9965 - dice_coef: 0.1403 - precision: 0.8988 - sensitivity: 0.6881 - specificity: 0.9993 - val_loss: 0.1031 - val_accuracy: 0.9974 - val_dice_coef: 0.0736 - val_precision: 0.6021 - val_sensitivity: 0.4505 - val_specificity: 0.9992\n",
            "Epoch 6/60\n",
            "42/42 [==============================] - ETA: 0s - loss: 0.0675 - accuracy: 0.9965 - dice_coef: 0.1761 - precision: 0.8958 - sensitivity: 0.6998 - specificity: 0.9993\n",
            "Epoch 00006: saving model to drive/My Drive/MS_data_k_fold/Major/Prepared_data/3/Modified_UNet_Major.h5\n",
            "42/42 [==============================] - 50s 1s/step - loss: 0.0675 - accuracy: 0.9965 - dice_coef: 0.1761 - precision: 0.8958 - sensitivity: 0.6998 - specificity: 0.9993 - val_loss: 0.0751 - val_accuracy: 0.9974 - val_dice_coef: 0.0905 - val_precision: 0.6295 - val_sensitivity: 0.4226 - val_specificity: 0.9994\n",
            "Epoch 7/60\n",
            "42/42 [==============================] - ETA: 0s - loss: 0.0533 - accuracy: 0.9966 - dice_coef: 0.2137 - precision: 0.8985 - sensitivity: 0.7020 - specificity: 0.9993\n",
            "Epoch 00007: saving model to drive/My Drive/MS_data_k_fold/Major/Prepared_data/3/Modified_UNet_Major.h5\n",
            "42/42 [==============================] - 49s 1s/step - loss: 0.0533 - accuracy: 0.9966 - dice_coef: 0.2137 - precision: 0.8985 - sensitivity: 0.7020 - specificity: 0.9993 - val_loss: 0.0586 - val_accuracy: 0.9972 - val_dice_coef: 0.0996 - val_precision: 0.6655 - val_sensitivity: 0.3525 - val_specificity: 0.9996\n",
            "Epoch 8/60\n",
            "42/42 [==============================] - ETA: 0s - loss: 0.0437 - accuracy: 0.9967 - dice_coef: 0.2515 - precision: 0.9008 - sensitivity: 0.7158 - specificity: 0.9993\n",
            "Epoch 00008: saving model to drive/My Drive/MS_data_k_fold/Major/Prepared_data/3/Modified_UNet_Major.h5\n",
            "42/42 [==============================] - 50s 1s/step - loss: 0.0437 - accuracy: 0.9967 - dice_coef: 0.2515 - precision: 0.9008 - sensitivity: 0.7158 - specificity: 0.9993 - val_loss: 0.0456 - val_accuracy: 0.9978 - val_dice_coef: 0.1325 - val_precision: 0.6057 - val_sensitivity: 0.5816 - val_specificity: 0.9991\n",
            "Epoch 9/60\n",
            "42/42 [==============================] - ETA: 0s - loss: 0.0367 - accuracy: 0.9968 - dice_coef: 0.2902 - precision: 0.8962 - sensitivity: 0.7415 - specificity: 0.9992\n",
            "Epoch 00009: saving model to drive/My Drive/MS_data_k_fold/Major/Prepared_data/3/Modified_UNet_Major.h5\n",
            "42/42 [==============================] - 50s 1s/step - loss: 0.0367 - accuracy: 0.9968 - dice_coef: 0.2902 - precision: 0.8962 - sensitivity: 0.7415 - specificity: 0.9992 - val_loss: 0.0371 - val_accuracy: 0.9973 - val_dice_coef: 0.1349 - val_precision: 0.6630 - val_sensitivity: 0.3844 - val_specificity: 0.9996\n",
            "Epoch 10/60\n",
            "42/42 [==============================] - ETA: 0s - loss: 0.0314 - accuracy: 0.9969 - dice_coef: 0.3265 - precision: 0.8941 - sensitivity: 0.7475 - specificity: 0.9992\n",
            "Epoch 00010: saving model to drive/My Drive/MS_data_k_fold/Major/Prepared_data/3/Modified_UNet_Major.h5\n",
            "42/42 [==============================] - 50s 1s/step - loss: 0.0314 - accuracy: 0.9969 - dice_coef: 0.3265 - precision: 0.8941 - sensitivity: 0.7475 - specificity: 0.9992 - val_loss: 0.0305 - val_accuracy: 0.9977 - val_dice_coef: 0.1653 - val_precision: 0.6289 - val_sensitivity: 0.5349 - val_specificity: 0.9993\n",
            "Epoch 11/60\n",
            "42/42 [==============================] - ETA: 0s - loss: 0.0273 - accuracy: 0.9969 - dice_coef: 0.3676 - precision: 0.8975 - sensitivity: 0.7532 - specificity: 0.9992\n",
            "Epoch 00011: saving model to drive/My Drive/MS_data_k_fold/Major/Prepared_data/3/Modified_UNet_Major.h5\n",
            "42/42 [==============================] - 50s 1s/step - loss: 0.0273 - accuracy: 0.9969 - dice_coef: 0.3676 - precision: 0.8975 - sensitivity: 0.7532 - specificity: 0.9992 - val_loss: 0.0253 - val_accuracy: 0.9974 - val_dice_coef: 0.1770 - val_precision: 0.6614 - val_sensitivity: 0.4476 - val_specificity: 0.9995\n",
            "Epoch 12/60\n",
            "42/42 [==============================] - ETA: 0s - loss: 0.0242 - accuracy: 0.9970 - dice_coef: 0.3997 - precision: 0.8956 - sensitivity: 0.7618 - specificity: 0.9992\n",
            "Epoch 00012: saving model to drive/My Drive/MS_data_k_fold/Major/Prepared_data/3/Modified_UNet_Major.h5\n",
            "42/42 [==============================] - 50s 1s/step - loss: 0.0242 - accuracy: 0.9970 - dice_coef: 0.3997 - precision: 0.8956 - sensitivity: 0.7618 - specificity: 0.9992 - val_loss: 0.0211 - val_accuracy: 0.9975 - val_dice_coef: 0.1906 - val_precision: 0.6728 - val_sensitivity: 0.4282 - val_specificity: 0.9995\n",
            "Epoch 13/60\n",
            "42/42 [==============================] - ETA: 0s - loss: 0.0218 - accuracy: 0.9970 - dice_coef: 0.4313 - precision: 0.8953 - sensitivity: 0.7596 - specificity: 0.9992\n",
            "Epoch 00013: saving model to drive/My Drive/MS_data_k_fold/Major/Prepared_data/3/Modified_UNet_Major.h5\n",
            "42/42 [==============================] - 50s 1s/step - loss: 0.0218 - accuracy: 0.9970 - dice_coef: 0.4313 - precision: 0.8953 - sensitivity: 0.7596 - specificity: 0.9992 - val_loss: 0.0194 - val_accuracy: 0.9974 - val_dice_coef: 0.1958 - val_precision: 0.6774 - val_sensitivity: 0.4206 - val_specificity: 0.9996\n",
            "Epoch 14/60\n",
            "42/42 [==============================] - ETA: 0s - loss: 0.0202 - accuracy: 0.9969 - dice_coef: 0.4519 - precision: 0.8954 - sensitivity: 0.7502 - specificity: 0.9992\n",
            "Epoch 00014: saving model to drive/My Drive/MS_data_k_fold/Major/Prepared_data/3/Modified_UNet_Major.h5\n",
            "42/42 [==============================] - 50s 1s/step - loss: 0.0202 - accuracy: 0.9969 - dice_coef: 0.4519 - precision: 0.8954 - sensitivity: 0.7502 - specificity: 0.9992 - val_loss: 0.0166 - val_accuracy: 0.9974 - val_dice_coef: 0.2081 - val_precision: 0.6753 - val_sensitivity: 0.4239 - val_specificity: 0.9995\n",
            "Epoch 15/60\n",
            "42/42 [==============================] - ETA: 0s - loss: 0.0183 - accuracy: 0.9971 - dice_coef: 0.4835 - precision: 0.8984 - sensitivity: 0.7630 - specificity: 0.9992\n",
            "Epoch 00015: saving model to drive/My Drive/MS_data_k_fold/Major/Prepared_data/3/Modified_UNet_Major.h5\n",
            "42/42 [==============================] - 50s 1s/step - loss: 0.0183 - accuracy: 0.9971 - dice_coef: 0.4835 - precision: 0.8984 - sensitivity: 0.7630 - specificity: 0.9992 - val_loss: 0.0145 - val_accuracy: 0.9977 - val_dice_coef: 0.2461 - val_precision: 0.6081 - val_sensitivity: 0.5896 - val_specificity: 0.9989\n",
            "Epoch 16/60\n",
            "42/42 [==============================] - ETA: 0s - loss: 0.0170 - accuracy: 0.9971 - dice_coef: 0.5108 - precision: 0.9023 - sensitivity: 0.7640 - specificity: 0.9992\n",
            "Epoch 00016: saving model to drive/My Drive/MS_data_k_fold/Major/Prepared_data/3/Modified_UNet_Major.h5\n",
            "42/42 [==============================] - 50s 1s/step - loss: 0.0170 - accuracy: 0.9971 - dice_coef: 0.5108 - precision: 0.9023 - sensitivity: 0.7640 - specificity: 0.9992 - val_loss: 0.0148 - val_accuracy: 0.9973 - val_dice_coef: 0.2159 - val_precision: 0.7490 - val_sensitivity: 0.3220 - val_specificity: 0.9997\n",
            "Epoch 17/60\n",
            "42/42 [==============================] - ETA: 0s - loss: 0.0158 - accuracy: 0.9971 - dice_coef: 0.5322 - precision: 0.9045 - sensitivity: 0.7672 - specificity: 0.9993\n",
            "Epoch 00017: saving model to drive/My Drive/MS_data_k_fold/Major/Prepared_data/3/Modified_UNet_Major.h5\n",
            "42/42 [==============================] - 50s 1s/step - loss: 0.0158 - accuracy: 0.9971 - dice_coef: 0.5322 - precision: 0.9045 - sensitivity: 0.7672 - specificity: 0.9993 - val_loss: 0.0126 - val_accuracy: 0.9978 - val_dice_coef: 0.2572 - val_precision: 0.6293 - val_sensitivity: 0.5616 - val_specificity: 0.9990\n",
            "Epoch 18/60\n",
            "42/42 [==============================] - ETA: 0s - loss: 0.0149 - accuracy: 0.9971 - dice_coef: 0.5528 - precision: 0.9039 - sensitivity: 0.7693 - specificity: 0.9992\n",
            "Epoch 00018: saving model to drive/My Drive/MS_data_k_fold/Major/Prepared_data/3/Modified_UNet_Major.h5\n",
            "42/42 [==============================] - 50s 1s/step - loss: 0.0149 - accuracy: 0.9971 - dice_coef: 0.5528 - precision: 0.9039 - sensitivity: 0.7693 - specificity: 0.9992 - val_loss: 0.0126 - val_accuracy: 0.9977 - val_dice_coef: 0.2697 - val_precision: 0.6066 - val_sensitivity: 0.5733 - val_specificity: 0.9987\n",
            "Epoch 19/60\n",
            "42/42 [==============================] - ETA: 0s - loss: 0.0141 - accuracy: 0.9972 - dice_coef: 0.5688 - precision: 0.9029 - sensitivity: 0.7683 - specificity: 0.9993\n",
            "Epoch 00019: saving model to drive/My Drive/MS_data_k_fold/Major/Prepared_data/3/Modified_UNet_Major.h5\n",
            "42/42 [==============================] - 50s 1s/step - loss: 0.0141 - accuracy: 0.9972 - dice_coef: 0.5688 - precision: 0.9029 - sensitivity: 0.7683 - specificity: 0.9993 - val_loss: 0.0149 - val_accuracy: 0.9968 - val_dice_coef: 0.2162 - val_precision: 0.7076 - val_sensitivity: 0.2804 - val_specificity: 0.9998\n",
            "Epoch 20/60\n",
            "42/42 [==============================] - ETA: 0s - loss: 0.0135 - accuracy: 0.9972 - dice_coef: 0.5818 - precision: 0.9029 - sensitivity: 0.7670 - specificity: 0.9993\n",
            "Epoch 00020: saving model to drive/My Drive/MS_data_k_fold/Major/Prepared_data/3/Modified_UNet_Major.h5\n",
            "42/42 [==============================] - 50s 1s/step - loss: 0.0135 - accuracy: 0.9972 - dice_coef: 0.5818 - precision: 0.9029 - sensitivity: 0.7670 - specificity: 0.9993 - val_loss: 0.0113 - val_accuracy: 0.9976 - val_dice_coef: 0.2729 - val_precision: 0.6958 - val_sensitivity: 0.4484 - val_specificity: 0.9995\n",
            "Epoch 21/60\n",
            "42/42 [==============================] - ETA: 0s - loss: 0.0126 - accuracy: 0.9972 - dice_coef: 0.6089 - precision: 0.9085 - sensitivity: 0.7745 - specificity: 0.9993\n",
            "Epoch 00021: saving model to drive/My Drive/MS_data_k_fold/Major/Prepared_data/3/Modified_UNet_Major.h5\n",
            "42/42 [==============================] - 50s 1s/step - loss: 0.0126 - accuracy: 0.9972 - dice_coef: 0.6089 - precision: 0.9085 - sensitivity: 0.7745 - specificity: 0.9993 - val_loss: 0.0100 - val_accuracy: 0.9978 - val_dice_coef: 0.2841 - val_precision: 0.6594 - val_sensitivity: 0.4992 - val_specificity: 0.9992\n",
            "Epoch 22/60\n",
            "42/42 [==============================] - ETA: 0s - loss: 0.0122 - accuracy: 0.9972 - dice_coef: 0.6199 - precision: 0.9091 - sensitivity: 0.7725 - specificity: 0.9993\n",
            "Epoch 00022: saving model to drive/My Drive/MS_data_k_fold/Major/Prepared_data/3/Modified_UNet_Major.h5\n",
            "42/42 [==============================] - 50s 1s/step - loss: 0.0122 - accuracy: 0.9972 - dice_coef: 0.6199 - precision: 0.9091 - sensitivity: 0.7725 - specificity: 0.9993 - val_loss: 0.0106 - val_accuracy: 0.9975 - val_dice_coef: 0.3016 - val_precision: 0.5967 - val_sensitivity: 0.5763 - val_specificity: 0.9985\n",
            "Epoch 23/60\n",
            "42/42 [==============================] - ETA: 0s - loss: 0.0118 - accuracy: 0.9972 - dice_coef: 0.6247 - precision: 0.9029 - sensitivity: 0.7738 - specificity: 0.9993\n",
            "Epoch 00023: saving model to drive/My Drive/MS_data_k_fold/Major/Prepared_data/3/Modified_UNet_Major.h5\n",
            "42/42 [==============================] - 50s 1s/step - loss: 0.0118 - accuracy: 0.9972 - dice_coef: 0.6247 - precision: 0.9029 - sensitivity: 0.7738 - specificity: 0.9993 - val_loss: 0.0094 - val_accuracy: 0.9976 - val_dice_coef: 0.3004 - val_precision: 0.6831 - val_sensitivity: 0.4650 - val_specificity: 0.9994\n",
            "Epoch 24/60\n",
            "42/42 [==============================] - ETA: 0s - loss: 0.0112 - accuracy: 0.9973 - dice_coef: 0.6449 - precision: 0.9062 - sensitivity: 0.7822 - specificity: 0.9993\n",
            "Epoch 00024: saving model to drive/My Drive/MS_data_k_fold/Major/Prepared_data/3/Modified_UNet_Major.h5\n",
            "42/42 [==============================] - 50s 1s/step - loss: 0.0112 - accuracy: 0.9973 - dice_coef: 0.6449 - precision: 0.9062 - sensitivity: 0.7822 - specificity: 0.9993 - val_loss: 0.0092 - val_accuracy: 0.9978 - val_dice_coef: 0.2974 - val_precision: 0.6831 - val_sensitivity: 0.4820 - val_specificity: 0.9991\n",
            "Epoch 25/60\n",
            "42/42 [==============================] - ETA: 0s - loss: 0.0106 - accuracy: 0.9973 - dice_coef: 0.6522 - precision: 0.9075 - sensitivity: 0.7832 - specificity: 0.9993\n",
            "Epoch 00025: saving model to drive/My Drive/MS_data_k_fold/Major/Prepared_data/3/Modified_UNet_Major.h5\n",
            "42/42 [==============================] - 50s 1s/step - loss: 0.0106 - accuracy: 0.9973 - dice_coef: 0.6522 - precision: 0.9075 - sensitivity: 0.7832 - specificity: 0.9993 - val_loss: 0.0090 - val_accuracy: 0.9978 - val_dice_coef: 0.3171 - val_precision: 0.6125 - val_sensitivity: 0.5654 - val_specificity: 0.9990\n",
            "Epoch 26/60\n",
            "42/42 [==============================] - ETA: 0s - loss: 0.0102 - accuracy: 0.9973 - dice_coef: 0.6628 - precision: 0.9068 - sensitivity: 0.7860 - specificity: 0.9993\n",
            "Epoch 00026: saving model to drive/My Drive/MS_data_k_fold/Major/Prepared_data/3/Modified_UNet_Major.h5\n",
            "42/42 [==============================] - 49s 1s/step - loss: 0.0102 - accuracy: 0.9973 - dice_coef: 0.6628 - precision: 0.9068 - sensitivity: 0.7860 - specificity: 0.9993 - val_loss: 0.0088 - val_accuracy: 0.9977 - val_dice_coef: 0.3212 - val_precision: 0.6582 - val_sensitivity: 0.5221 - val_specificity: 0.9993\n",
            "Epoch 27/60\n",
            "42/42 [==============================] - ETA: 0s - loss: 0.0101 - accuracy: 0.9973 - dice_coef: 0.6724 - precision: 0.9035 - sensitivity: 0.7902 - specificity: 0.9992\n",
            "Epoch 00027: saving model to drive/My Drive/MS_data_k_fold/Major/Prepared_data/3/Modified_UNet_Major.h5\n",
            "42/42 [==============================] - 50s 1s/step - loss: 0.0101 - accuracy: 0.9973 - dice_coef: 0.6724 - precision: 0.9035 - sensitivity: 0.7902 - specificity: 0.9992 - val_loss: 0.0085 - val_accuracy: 0.9977 - val_dice_coef: 0.3175 - val_precision: 0.6611 - val_sensitivity: 0.4897 - val_specificity: 0.9993\n",
            "Epoch 28/60\n",
            "42/42 [==============================] - ETA: 0s - loss: 0.0095 - accuracy: 0.9974 - dice_coef: 0.6882 - precision: 0.9050 - sensitivity: 0.8002 - specificity: 0.9992\n",
            "Epoch 00028: saving model to drive/My Drive/MS_data_k_fold/Major/Prepared_data/3/Modified_UNet_Major.h5\n",
            "42/42 [==============================] - 50s 1s/step - loss: 0.0095 - accuracy: 0.9974 - dice_coef: 0.6882 - precision: 0.9050 - sensitivity: 0.8002 - specificity: 0.9992 - val_loss: 0.0081 - val_accuracy: 0.9977 - val_dice_coef: 0.3094 - val_precision: 0.6845 - val_sensitivity: 0.4022 - val_specificity: 0.9995\n",
            "Epoch 29/60\n",
            "42/42 [==============================] - ETA: 0s - loss: 0.0093 - accuracy: 0.9974 - dice_coef: 0.6931 - precision: 0.9065 - sensitivity: 0.8035 - specificity: 0.9992\n",
            "Epoch 00029: saving model to drive/My Drive/MS_data_k_fold/Major/Prepared_data/3/Modified_UNet_Major.h5\n",
            "42/42 [==============================] - 50s 1s/step - loss: 0.0093 - accuracy: 0.9974 - dice_coef: 0.6931 - precision: 0.9065 - sensitivity: 0.8035 - specificity: 0.9992 - val_loss: 0.0095 - val_accuracy: 0.9974 - val_dice_coef: 0.2892 - val_precision: 0.7223 - val_sensitivity: 0.3522 - val_specificity: 0.9996\n",
            "Epoch 30/60\n",
            "42/42 [==============================] - ETA: 0s - loss: 0.0090 - accuracy: 0.9975 - dice_coef: 0.7012 - precision: 0.9036 - sensitivity: 0.8069 - specificity: 0.9992\n",
            "Epoch 00030: saving model to drive/My Drive/MS_data_k_fold/Major/Prepared_data/3/Modified_UNet_Major.h5\n",
            "42/42 [==============================] - 50s 1s/step - loss: 0.0090 - accuracy: 0.9975 - dice_coef: 0.7012 - precision: 0.9036 - sensitivity: 0.8069 - specificity: 0.9992 - val_loss: 0.0084 - val_accuracy: 0.9976 - val_dice_coef: 0.3443 - val_precision: 0.6312 - val_sensitivity: 0.5438 - val_specificity: 0.9987\n",
            "Epoch 31/60\n",
            "42/42 [==============================] - ETA: 0s - loss: 0.0088 - accuracy: 0.9975 - dice_coef: 0.7083 - precision: 0.9048 - sensitivity: 0.8076 - specificity: 0.9992\n",
            "Epoch 00031: saving model to drive/My Drive/MS_data_k_fold/Major/Prepared_data/3/Modified_UNet_Major.h5\n",
            "42/42 [==============================] - 50s 1s/step - loss: 0.0088 - accuracy: 0.9975 - dice_coef: 0.7083 - precision: 0.9048 - sensitivity: 0.8076 - specificity: 0.9992 - val_loss: 0.0082 - val_accuracy: 0.9976 - val_dice_coef: 0.3378 - val_precision: 0.6834 - val_sensitivity: 0.4873 - val_specificity: 0.9990\n",
            "Epoch 32/60\n",
            "42/42 [==============================] - ETA: 0s - loss: 0.0086 - accuracy: 0.9975 - dice_coef: 0.7166 - precision: 0.9025 - sensitivity: 0.8152 - specificity: 0.9992\n",
            "Epoch 00032: saving model to drive/My Drive/MS_data_k_fold/Major/Prepared_data/3/Modified_UNet_Major.h5\n",
            "42/42 [==============================] - 50s 1s/step - loss: 0.0086 - accuracy: 0.9975 - dice_coef: 0.7166 - precision: 0.9025 - sensitivity: 0.8152 - specificity: 0.9992 - val_loss: 0.0077 - val_accuracy: 0.9977 - val_dice_coef: 0.3524 - val_precision: 0.7061 - val_sensitivity: 0.4858 - val_specificity: 0.9993\n",
            "Epoch 33/60\n",
            "42/42 [==============================] - ETA: 0s - loss: 0.0082 - accuracy: 0.9976 - dice_coef: 0.7273 - precision: 0.9055 - sensitivity: 0.8193 - specificity: 0.9992\n",
            "Epoch 00033: saving model to drive/My Drive/MS_data_k_fold/Major/Prepared_data/3/Modified_UNet_Major.h5\n",
            "42/42 [==============================] - 50s 1s/step - loss: 0.0082 - accuracy: 0.9976 - dice_coef: 0.7273 - precision: 0.9055 - sensitivity: 0.8193 - specificity: 0.9992 - val_loss: 0.0093 - val_accuracy: 0.9974 - val_dice_coef: 0.3170 - val_precision: 0.7338 - val_sensitivity: 0.3564 - val_specificity: 0.9996\n",
            "Epoch 34/60\n",
            "42/42 [==============================] - ETA: 0s - loss: 0.0081 - accuracy: 0.9976 - dice_coef: 0.7267 - precision: 0.9040 - sensitivity: 0.8146 - specificity: 0.9992\n",
            "Epoch 00034: saving model to drive/My Drive/MS_data_k_fold/Major/Prepared_data/3/Modified_UNet_Major.h5\n",
            "42/42 [==============================] - 50s 1s/step - loss: 0.0081 - accuracy: 0.9976 - dice_coef: 0.7267 - precision: 0.9040 - sensitivity: 0.8146 - specificity: 0.9992 - val_loss: 0.0092 - val_accuracy: 0.9974 - val_dice_coef: 0.3259 - val_precision: 0.7098 - val_sensitivity: 0.3871 - val_specificity: 0.9996\n",
            "Epoch 35/60\n",
            "42/42 [==============================] - ETA: 0s - loss: 0.0077 - accuracy: 0.9976 - dice_coef: 0.7418 - precision: 0.9073 - sensitivity: 0.8260 - specificity: 0.9992\n",
            "Epoch 00035: saving model to drive/My Drive/MS_data_k_fold/Major/Prepared_data/3/Modified_UNet_Major.h5\n",
            "42/42 [==============================] - 50s 1s/step - loss: 0.0077 - accuracy: 0.9976 - dice_coef: 0.7418 - precision: 0.9073 - sensitivity: 0.8260 - specificity: 0.9992 - val_loss: 0.0077 - val_accuracy: 0.9977 - val_dice_coef: 0.3703 - val_precision: 0.6405 - val_sensitivity: 0.5293 - val_specificity: 0.9990\n",
            "Epoch 36/60\n",
            "42/42 [==============================] - ETA: 0s - loss: 0.0073 - accuracy: 0.9977 - dice_coef: 0.7514 - precision: 0.9084 - sensitivity: 0.8340 - specificity: 0.9992\n",
            "Epoch 00036: saving model to drive/My Drive/MS_data_k_fold/Major/Prepared_data/3/Modified_UNet_Major.h5\n",
            "42/42 [==============================] - 50s 1s/step - loss: 0.0073 - accuracy: 0.9977 - dice_coef: 0.7514 - precision: 0.9084 - sensitivity: 0.8340 - specificity: 0.9992 - val_loss: 0.0074 - val_accuracy: 0.9977 - val_dice_coef: 0.3896 - val_precision: 0.6000 - val_sensitivity: 0.5757 - val_specificity: 0.9989\n",
            "Epoch 37/60\n",
            "42/42 [==============================] - ETA: 0s - loss: 0.0072 - accuracy: 0.9977 - dice_coef: 0.7555 - precision: 0.9077 - sensitivity: 0.8350 - specificity: 0.9992\n",
            "Epoch 00037: saving model to drive/My Drive/MS_data_k_fold/Major/Prepared_data/3/Modified_UNet_Major.h5\n",
            "42/42 [==============================] - 50s 1s/step - loss: 0.0072 - accuracy: 0.9977 - dice_coef: 0.7555 - precision: 0.9077 - sensitivity: 0.8350 - specificity: 0.9992 - val_loss: 0.0079 - val_accuracy: 0.9976 - val_dice_coef: 0.3634 - val_precision: 0.6271 - val_sensitivity: 0.4875 - val_specificity: 0.9990\n",
            "Epoch 38/60\n",
            "42/42 [==============================] - ETA: 0s - loss: 0.0069 - accuracy: 0.9978 - dice_coef: 0.7645 - precision: 0.9071 - sensitivity: 0.8420 - specificity: 0.9992\n",
            "Epoch 00038: saving model to drive/My Drive/MS_data_k_fold/Major/Prepared_data/3/Modified_UNet_Major.h5\n",
            "42/42 [==============================] - 50s 1s/step - loss: 0.0069 - accuracy: 0.9978 - dice_coef: 0.7645 - precision: 0.9071 - sensitivity: 0.8420 - specificity: 0.9992 - val_loss: 0.0075 - val_accuracy: 0.9977 - val_dice_coef: 0.3686 - val_precision: 0.6798 - val_sensitivity: 0.4371 - val_specificity: 0.9994\n",
            "Epoch 39/60\n",
            "42/42 [==============================] - ETA: 0s - loss: 0.0069 - accuracy: 0.9978 - dice_coef: 0.7615 - precision: 0.9051 - sensitivity: 0.8383 - specificity: 0.9992\n",
            "Epoch 00039: saving model to drive/My Drive/MS_data_k_fold/Major/Prepared_data/3/Modified_UNet_Major.h5\n",
            "42/42 [==============================] - 50s 1s/step - loss: 0.0069 - accuracy: 0.9978 - dice_coef: 0.7615 - precision: 0.9051 - sensitivity: 0.8383 - specificity: 0.9992 - val_loss: 0.0068 - val_accuracy: 0.9977 - val_dice_coef: 0.3988 - val_precision: 0.6717 - val_sensitivity: 0.5212 - val_specificity: 0.9994\n",
            "Epoch 40/60\n",
            "42/42 [==============================] - ETA: 0s - loss: 0.0066 - accuracy: 0.9978 - dice_coef: 0.7717 - precision: 0.9086 - sensitivity: 0.8481 - specificity: 0.9992\n",
            "Epoch 00040: saving model to drive/My Drive/MS_data_k_fold/Major/Prepared_data/3/Modified_UNet_Major.h5\n",
            "42/42 [==============================] - 50s 1s/step - loss: 0.0066 - accuracy: 0.9978 - dice_coef: 0.7717 - precision: 0.9086 - sensitivity: 0.8481 - specificity: 0.9992 - val_loss: 0.0081 - val_accuracy: 0.9975 - val_dice_coef: 0.3843 - val_precision: 0.6677 - val_sensitivity: 0.4569 - val_specificity: 0.9995\n",
            "Epoch 41/60\n",
            "42/42 [==============================] - ETA: 0s - loss: 0.0064 - accuracy: 0.9979 - dice_coef: 0.7841 - precision: 0.9123 - sensitivity: 0.8524 - specificity: 0.9992\n",
            "Epoch 00041: saving model to drive/My Drive/MS_data_k_fold/Major/Prepared_data/3/Modified_UNet_Major.h5\n",
            "42/42 [==============================] - 50s 1s/step - loss: 0.0064 - accuracy: 0.9979 - dice_coef: 0.7841 - precision: 0.9123 - sensitivity: 0.8524 - specificity: 0.9992 - val_loss: 0.0090 - val_accuracy: 0.9973 - val_dice_coef: 0.3219 - val_precision: 0.7585 - val_sensitivity: 0.3145 - val_specificity: 0.9998\n",
            "Epoch 42/60\n",
            "42/42 [==============================] - ETA: 0s - loss: 0.0063 - accuracy: 0.9979 - dice_coef: 0.7838 - precision: 0.9095 - sensitivity: 0.8542 - specificity: 0.9992\n",
            "Epoch 00042: saving model to drive/My Drive/MS_data_k_fold/Major/Prepared_data/3/Modified_UNet_Major.h5\n",
            "42/42 [==============================] - 50s 1s/step - loss: 0.0063 - accuracy: 0.9979 - dice_coef: 0.7838 - precision: 0.9095 - sensitivity: 0.8542 - specificity: 0.9992 - val_loss: 0.0084 - val_accuracy: 0.9975 - val_dice_coef: 0.3590 - val_precision: 0.6939 - val_sensitivity: 0.4165 - val_specificity: 0.9994\n",
            "Epoch 43/60\n",
            "42/42 [==============================] - ETA: 0s - loss: 0.0061 - accuracy: 0.9979 - dice_coef: 0.7902 - precision: 0.9140 - sensitivity: 0.8543 - specificity: 0.9993\n",
            "Epoch 00043: saving model to drive/My Drive/MS_data_k_fold/Major/Prepared_data/3/Modified_UNet_Major.h5\n",
            "42/42 [==============================] - 50s 1s/step - loss: 0.0061 - accuracy: 0.9979 - dice_coef: 0.7902 - precision: 0.9140 - sensitivity: 0.8543 - specificity: 0.9993 - val_loss: 0.0083 - val_accuracy: 0.9975 - val_dice_coef: 0.3700 - val_precision: 0.7026 - val_sensitivity: 0.4212 - val_specificity: 0.9995\n",
            "Epoch 44/60\n",
            "42/42 [==============================] - ETA: 0s - loss: 0.0058 - accuracy: 0.9980 - dice_coef: 0.7963 - precision: 0.9124 - sensitivity: 0.8635 - specificity: 0.9993\n",
            "Epoch 00044: saving model to drive/My Drive/MS_data_k_fold/Major/Prepared_data/3/Modified_UNet_Major.h5\n",
            "42/42 [==============================] - 49s 1s/step - loss: 0.0058 - accuracy: 0.9980 - dice_coef: 0.7963 - precision: 0.9124 - sensitivity: 0.8635 - specificity: 0.9993 - val_loss: 0.0071 - val_accuracy: 0.9977 - val_dice_coef: 0.4193 - val_precision: 0.6356 - val_sensitivity: 0.5495 - val_specificity: 0.9991\n",
            "Epoch 45/60\n",
            "42/42 [==============================] - ETA: 0s - loss: 0.0057 - accuracy: 0.9980 - dice_coef: 0.8029 - precision: 0.9139 - sensitivity: 0.8651 - specificity: 0.9993\n",
            "Epoch 00045: saving model to drive/My Drive/MS_data_k_fold/Major/Prepared_data/3/Modified_UNet_Major.h5\n",
            "42/42 [==============================] - 50s 1s/step - loss: 0.0057 - accuracy: 0.9980 - dice_coef: 0.8029 - precision: 0.9139 - sensitivity: 0.8651 - specificity: 0.9993 - val_loss: 0.0080 - val_accuracy: 0.9976 - val_dice_coef: 0.3832 - val_precision: 0.7166 - val_sensitivity: 0.4249 - val_specificity: 0.9995\n",
            "Epoch 46/60\n",
            "42/42 [==============================] - ETA: 0s - loss: 0.0056 - accuracy: 0.9981 - dice_coef: 0.8066 - precision: 0.9145 - sensitivity: 0.8675 - specificity: 0.9993\n",
            "Epoch 00046: saving model to drive/My Drive/MS_data_k_fold/Major/Prepared_data/3/Modified_UNet_Major.h5\n",
            "42/42 [==============================] - 50s 1s/step - loss: 0.0056 - accuracy: 0.9981 - dice_coef: 0.8066 - precision: 0.9145 - sensitivity: 0.8675 - specificity: 0.9993 - val_loss: 0.0070 - val_accuracy: 0.9976 - val_dice_coef: 0.3957 - val_precision: 0.6765 - val_sensitivity: 0.4310 - val_specificity: 0.9995\n",
            "Epoch 47/60\n",
            "42/42 [==============================] - ETA: 0s - loss: 0.0060 - accuracy: 0.9979 - dice_coef: 0.7930 - precision: 0.9070 - sensitivity: 0.8556 - specificity: 0.9992\n",
            "Epoch 00047: saving model to drive/My Drive/MS_data_k_fold/Major/Prepared_data/3/Modified_UNet_Major.h5\n",
            "42/42 [==============================] - 50s 1s/step - loss: 0.0060 - accuracy: 0.9979 - dice_coef: 0.7930 - precision: 0.9070 - sensitivity: 0.8556 - specificity: 0.9992 - val_loss: 0.0096 - val_accuracy: 0.9974 - val_dice_coef: 0.3576 - val_precision: 0.7041 - val_sensitivity: 0.3420 - val_specificity: 0.9996\n",
            "Epoch 48/60\n",
            "42/42 [==============================] - ETA: 0s - loss: 0.0055 - accuracy: 0.9981 - dice_coef: 0.8100 - precision: 0.9162 - sensitivity: 0.8660 - specificity: 0.9993\n",
            "Epoch 00048: saving model to drive/My Drive/MS_data_k_fold/Major/Prepared_data/3/Modified_UNet_Major.h5\n",
            "42/42 [==============================] - 50s 1s/step - loss: 0.0055 - accuracy: 0.9981 - dice_coef: 0.8100 - precision: 0.9162 - sensitivity: 0.8660 - specificity: 0.9993 - val_loss: 0.0078 - val_accuracy: 0.9976 - val_dice_coef: 0.3841 - val_precision: 0.6451 - val_sensitivity: 0.4301 - val_specificity: 0.9992\n",
            "Epoch 49/60\n",
            "42/42 [==============================] - ETA: 0s - loss: 0.0052 - accuracy: 0.9982 - dice_coef: 0.8197 - precision: 0.9167 - sensitivity: 0.8762 - specificity: 0.9993\n",
            "Epoch 00049: saving model to drive/My Drive/MS_data_k_fold/Major/Prepared_data/3/Modified_UNet_Major.h5\n",
            "42/42 [==============================] - 50s 1s/step - loss: 0.0052 - accuracy: 0.9982 - dice_coef: 0.8197 - precision: 0.9167 - sensitivity: 0.8762 - specificity: 0.9993 - val_loss: 0.0076 - val_accuracy: 0.9976 - val_dice_coef: 0.4075 - val_precision: 0.6771 - val_sensitivity: 0.4530 - val_specificity: 0.9994\n",
            "Epoch 50/60\n",
            "42/42 [==============================] - ETA: 0s - loss: 0.0052 - accuracy: 0.9982 - dice_coef: 0.8198 - precision: 0.9160 - sensitivity: 0.8775 - specificity: 0.9993\n",
            "Epoch 00050: saving model to drive/My Drive/MS_data_k_fold/Major/Prepared_data/3/Modified_UNet_Major.h5\n",
            "42/42 [==============================] - 50s 1s/step - loss: 0.0052 - accuracy: 0.9982 - dice_coef: 0.8198 - precision: 0.9160 - sensitivity: 0.8775 - specificity: 0.9993 - val_loss: 0.0105 - val_accuracy: 0.9973 - val_dice_coef: 0.3501 - val_precision: 0.6039 - val_sensitivity: 0.3416 - val_specificity: 0.9996\n",
            "Epoch 51/60\n",
            "42/42 [==============================] - ETA: 0s - loss: 0.0051 - accuracy: 0.9982 - dice_coef: 0.8252 - precision: 0.9205 - sensitivity: 0.8771 - specificity: 0.9993\n",
            "Epoch 00051: saving model to drive/My Drive/MS_data_k_fold/Major/Prepared_data/3/Modified_UNet_Major.h5\n",
            "42/42 [==============================] - 50s 1s/step - loss: 0.0051 - accuracy: 0.9982 - dice_coef: 0.8252 - precision: 0.9205 - sensitivity: 0.8771 - specificity: 0.9993 - val_loss: 0.0092 - val_accuracy: 0.9973 - val_dice_coef: 0.3385 - val_precision: 0.7046 - val_sensitivity: 0.3112 - val_specificity: 0.9996\n",
            "Epoch 52/60\n",
            "42/42 [==============================] - ETA: 0s - loss: 0.0048 - accuracy: 0.9983 - dice_coef: 0.8329 - precision: 0.9227 - sensitivity: 0.8857 - specificity: 0.9993\n",
            "Epoch 00052: saving model to drive/My Drive/MS_data_k_fold/Major/Prepared_data/3/Modified_UNet_Major.h5\n",
            "42/42 [==============================] - 50s 1s/step - loss: 0.0048 - accuracy: 0.9983 - dice_coef: 0.8329 - precision: 0.9227 - sensitivity: 0.8857 - specificity: 0.9993 - val_loss: 0.0085 - val_accuracy: 0.9975 - val_dice_coef: 0.4181 - val_precision: 0.6559 - val_sensitivity: 0.4721 - val_specificity: 0.9992\n",
            "Epoch 53/60\n",
            "42/42 [==============================] - ETA: 0s - loss: 0.0047 - accuracy: 0.9983 - dice_coef: 0.8382 - precision: 0.9232 - sensitivity: 0.8903 - specificity: 0.9993\n",
            "Epoch 00053: saving model to drive/My Drive/MS_data_k_fold/Major/Prepared_data/3/Modified_UNet_Major.h5\n",
            "42/42 [==============================] - 50s 1s/step - loss: 0.0047 - accuracy: 0.9983 - dice_coef: 0.8382 - precision: 0.9232 - sensitivity: 0.8903 - specificity: 0.9993 - val_loss: 0.0083 - val_accuracy: 0.9975 - val_dice_coef: 0.4219 - val_precision: 0.6800 - val_sensitivity: 0.4497 - val_specificity: 0.9995\n",
            "Epoch 54/60\n",
            "42/42 [==============================] - ETA: 0s - loss: 0.0046 - accuracy: 0.9983 - dice_coef: 0.8387 - precision: 0.9242 - sensitivity: 0.8892 - specificity: 0.9994\n",
            "Epoch 00054: saving model to drive/My Drive/MS_data_k_fold/Major/Prepared_data/3/Modified_UNet_Major.h5\n",
            "42/42 [==============================] - 50s 1s/step - loss: 0.0046 - accuracy: 0.9983 - dice_coef: 0.8387 - precision: 0.9242 - sensitivity: 0.8892 - specificity: 0.9994 - val_loss: 0.0068 - val_accuracy: 0.9977 - val_dice_coef: 0.4348 - val_precision: 0.6378 - val_sensitivity: 0.5160 - val_specificity: 0.9990\n",
            "Epoch 55/60\n",
            "42/42 [==============================] - ETA: 0s - loss: 0.0048 - accuracy: 0.9982 - dice_coef: 0.8350 - precision: 0.9223 - sensitivity: 0.8824 - specificity: 0.9993\n",
            "Epoch 00055: saving model to drive/My Drive/MS_data_k_fold/Major/Prepared_data/3/Modified_UNet_Major.h5\n",
            "42/42 [==============================] - 50s 1s/step - loss: 0.0048 - accuracy: 0.9982 - dice_coef: 0.8350 - precision: 0.9223 - sensitivity: 0.8824 - specificity: 0.9993 - val_loss: 0.0089 - val_accuracy: 0.9975 - val_dice_coef: 0.4399 - val_precision: 0.5639 - val_sensitivity: 0.5178 - val_specificity: 0.9990\n",
            "Epoch 56/60\n",
            "42/42 [==============================] - ETA: 0s - loss: 0.0045 - accuracy: 0.9983 - dice_coef: 0.8412 - precision: 0.9238 - sensitivity: 0.8889 - specificity: 0.9993\n",
            "Epoch 00056: saving model to drive/My Drive/MS_data_k_fold/Major/Prepared_data/3/Modified_UNet_Major.h5\n",
            "42/42 [==============================] - 50s 1s/step - loss: 0.0045 - accuracy: 0.9983 - dice_coef: 0.8412 - precision: 0.9238 - sensitivity: 0.8889 - specificity: 0.9993 - val_loss: 0.0088 - val_accuracy: 0.9975 - val_dice_coef: 0.4430 - val_precision: 0.6684 - val_sensitivity: 0.4869 - val_specificity: 0.9993\n",
            "Epoch 57/60\n",
            "42/42 [==============================] - ETA: 0s - loss: 0.0043 - accuracy: 0.9984 - dice_coef: 0.8501 - precision: 0.9255 - sensitivity: 0.8989 - specificity: 0.9994\n",
            "Epoch 00057: saving model to drive/My Drive/MS_data_k_fold/Major/Prepared_data/3/Modified_UNet_Major.h5\n",
            "42/42 [==============================] - 50s 1s/step - loss: 0.0043 - accuracy: 0.9984 - dice_coef: 0.8501 - precision: 0.9255 - sensitivity: 0.8989 - specificity: 0.9994 - val_loss: 0.0077 - val_accuracy: 0.9976 - val_dice_coef: 0.4317 - val_precision: 0.6517 - val_sensitivity: 0.4721 - val_specificity: 0.9993\n",
            "Epoch 58/60\n",
            "42/42 [==============================] - ETA: 0s - loss: 0.0042 - accuracy: 0.9984 - dice_coef: 0.8533 - precision: 0.9294 - sensitivity: 0.8966 - specificity: 0.9994\n",
            "Epoch 00058: saving model to drive/My Drive/MS_data_k_fold/Major/Prepared_data/3/Modified_UNet_Major.h5\n",
            "42/42 [==============================] - 50s 1s/step - loss: 0.0042 - accuracy: 0.9984 - dice_coef: 0.8533 - precision: 0.9294 - sensitivity: 0.8966 - specificity: 0.9994 - val_loss: 0.0074 - val_accuracy: 0.9977 - val_dice_coef: 0.4479 - val_precision: 0.6456 - val_sensitivity: 0.5047 - val_specificity: 0.9991\n",
            "Epoch 59/60\n",
            "42/42 [==============================] - ETA: 0s - loss: 0.0042 - accuracy: 0.9984 - dice_coef: 0.8549 - precision: 0.9271 - sensitivity: 0.9005 - specificity: 0.9994\n",
            "Epoch 00059: saving model to drive/My Drive/MS_data_k_fold/Major/Prepared_data/3/Modified_UNet_Major.h5\n",
            "42/42 [==============================] - 50s 1s/step - loss: 0.0042 - accuracy: 0.9984 - dice_coef: 0.8549 - precision: 0.9271 - sensitivity: 0.9005 - specificity: 0.9994 - val_loss: 0.0078 - val_accuracy: 0.9976 - val_dice_coef: 0.4508 - val_precision: 0.6588 - val_sensitivity: 0.4903 - val_specificity: 0.9994\n",
            "Epoch 60/60\n",
            "42/42 [==============================] - ETA: 0s - loss: 0.0040 - accuracy: 0.9985 - dice_coef: 0.8609 - precision: 0.9316 - sensitivity: 0.9044 - specificity: 0.9994\n",
            "Epoch 00060: saving model to drive/My Drive/MS_data_k_fold/Major/Prepared_data/3/Modified_UNet_Major.h5\n",
            "42/42 [==============================] - 50s 1s/step - loss: 0.0040 - accuracy: 0.9985 - dice_coef: 0.8609 - precision: 0.9316 - sensitivity: 0.9044 - specificity: 0.9994 - val_loss: 0.0081 - val_accuracy: 0.9975 - val_dice_coef: 0.4443 - val_precision: 0.6173 - val_sensitivity: 0.5112 - val_specificity: 0.9990\n",
            "52/52 [==============================] - 22s 416ms/step - loss: 0.0050 - accuracy: 0.9983 - dice_coef: 0.5599 - precision: 0.6668 - sensitivity: 0.6728 - specificity: 0.9991\n",
            "22/22 [==============================] - 9s 422ms/step - loss: 0.0032 - accuracy: 0.9993 - dice_coef: 0.3532 - precision: 0.5396 - sensitivity: 0.5030 - specificity: 0.9997\n"
          ],
          "name": "stdout"
        },
        {
          "output_type": "display_data",
          "data": {
            "image/png": "[encoded data removed]",
            "text/plain": [
              "<Figure size 432x288 with 1 Axes>"
            ]
          },
          "metadata": {
            "tags": [],
            "needs_background": "light"
          }
        },
        {
          "output_type": "display_data",
          "data": {
            "image/png": "[encoded data removed]",
            "text/plain": [
              "<Figure size 432x288 with 1 Axes>"
            ]
          },
          "metadata": {
            "tags": [],
            "needs_background": "light"
          }
        },
        {
          "output_type": "display_data",
          "data": {
            "image/png": "[encoded data removed]",
            "text/plain": [
              "<Figure size 432x288 with 1 Axes>"
            ]
          },
          "metadata": {
            "tags": [],
            "needs_background": "light"
          }
        }
      ]
    }
  ]
}