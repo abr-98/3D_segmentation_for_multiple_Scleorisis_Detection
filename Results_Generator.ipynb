{
  "nbformat": 4,
  "nbformat_minor": 0,
  "metadata": {
    "colab": {
      "name": "Results_Generator.ipynb",
      "provenance": [],
      "toc_visible": true
    },
    "kernelspec": {
      "name": "python3",
      "display_name": "Python 3"
    }
  },
  "cells": [
    {
      "cell_type": "markdown",
      "metadata": {
        "id": "hbkgE3Jcp-qt",
        "colab_type": "text"
      },
      "source": [
        "## Mounter"
      ]
    },
    {
      "cell_type": "code",
      "metadata": {
        "id": "BwHpIyCsqJxS",
        "colab_type": "code",
        "colab": {
          "base_uri": "https://localhost:8080/",
          "height": 122
        },
        "outputId": "97903cbd-940a-4532-c063-c2d86b5bee4d"
      },
      "source": [
        "from google.colab import drive\n",
        "drive.mount('/content/drive')"
      ],
      "execution_count": 1,
      "outputs": [
        {
          "output_type": "stream",
          "text": [
            "Go to this URL in a browser: https://accounts.google.com/o/oauth2/auth?client_id=947318989803-6bn6qk8qdgf4n4g3pfee6491hc0brc4i.apps.googleusercontent.com&redirect_uri=urn%3aietf%3awg%3aoauth%3a2.0%3aoob&response_type=code&scope=email%20https%3a%2f%2fwww.googleapis.com%2fauth%2fdocs.test%20https%3a%2f%2fwww.googleapis.com%2fauth%2fdrive%20https%3a%2f%2fwww.googleapis.com%2fauth%2fdrive.photos.readonly%20https%3a%2f%2fwww.googleapis.com%2fauth%2fpeopleapi.readonly\n",
            "\n",
            "Enter your authorization code:\n",
            "··········\n",
            "Mounted at /content/drive\n"
          ],
          "name": "stdout"
        }
      ]
    },
    {
      "cell_type": "markdown",
      "metadata": {
        "id": "mEwjbKVfqL4x",
        "colab_type": "text"
      },
      "source": [
        "## Generate for 3D"
      ]
    },
    {
      "cell_type": "code",
      "metadata": {
        "id": "EeJL9Zjmqq2g",
        "colab_type": "code",
        "colab": {}
      },
      "source": [
        "import os\n",
        "import json"
      ],
      "execution_count": 0,
      "outputs": []
    },
    {
      "cell_type": "code",
      "metadata": {
        "id": "z5EKhHKjqQL0",
        "colab_type": "code",
        "colab": {}
      },
      "source": [
        "def generate_3D(fldr,lt=0):\n",
        "  k={}\n",
        "  cnt=0\n",
        "  path='drive/My Drive/MS_data_k_fold_3D/'\n",
        "  ext_p=\"Prepared_data/\"\n",
        "  file_final=path+fldr+'/'+ext_p+'record_final.json'\n",
        "  print(file_final)\n",
        "  i=1\n",
        "  while (i<=5):\n",
        "    file_l=path+fldr+'/'+ext_p+str(i)+'/record.json'\n",
        "    print(file_l)\n",
        "    f=open(file_l,'r')\n",
        "    data=json.load(f)\n",
        "    for n in data.keys():\n",
        "      for key in data[n].keys():\n",
        "        if k.get(key) is None:\n",
        "          print(float((data[n][\"testing\"])[2]))\n",
        "          print(\"b\")\n",
        "          print(lt)\n",
        "          if float((data[n][\"testing\"])[2])>lt:\n",
        "            k[key]=data[n].get(key)\n",
        "            cnt+=1\n",
        "        else:\n",
        "          \n",
        "          print(float((data[n][\"testing\"])[2]))\n",
        "          print(\"a\")\n",
        "          print(lt)\n",
        "          if float((data[n][\"testing\"])[2])>lt:\n",
        "            j=0\n",
        "            while j<len(data[n][\"testing\"]):\n",
        "              (k[key])[j]+=(data[n][key])[j]\n",
        "              j+=1\n",
        "            cnt+=1\n",
        "    i+=1\n",
        "  for n in k.keys():\n",
        "    j=0\n",
        "    while j<len(k[n]):\n",
        "      (k[n])[j]/=(cnt/2)\n",
        "      j+=1\n",
        "\n",
        "  with open(file_final, \"w\") as outfile:\n",
        "\t\t\tjson.dump(k, outfile)\n",
        "   \n",
        "\n"
      ],
      "execution_count": 0,
      "outputs": []
    },
    {
      "cell_type": "code",
      "metadata": {
        "id": "bgztbgimk1zZ",
        "colab_type": "code",
        "colab": {}
      },
      "source": [
        "def call_generate():\n",
        "  fldr=['Intersection','Major','Union']\n",
        "  lt=[0.30,0.55,0]\n",
        "  i=0\n",
        "  while i<3:\n",
        "    generate_3D(fldr[i],lt[i])\n",
        "    i+=1"
      ],
      "execution_count": 0,
      "outputs": []
    },
    {
      "cell_type": "code",
      "metadata": {
        "id": "xqu2Fipmm8lE",
        "colab_type": "code",
        "colab": {
          "base_uri": "https://localhost:8080/",
          "height": 1000
        },
        "outputId": "eec4ccce-c2d5-49ef-f079-09683cd6f6b3"
      },
      "source": [
        "call_generate()"
      ],
      "execution_count": 31,
      "outputs": [
        {
          "output_type": "stream",
          "text": [
            "drive/My Drive/MS_data_k_fold_3D/Intersection/Prepared_data/record_final.json\n",
            "drive/My Drive/MS_data_k_fold_3D/Intersection/Prepared_data/1/record.json\n",
            "0.08923409134149551\n",
            "b\n",
            "0.3\n",
            "0.08923409134149551\n",
            "b\n",
            "0.3\n",
            "drive/My Drive/MS_data_k_fold_3D/Intersection/Prepared_data/2/record.json\n",
            "0.3709186613559723\n",
            "b\n",
            "0.3\n",
            "0.3709186613559723\n",
            "b\n",
            "0.3\n",
            "drive/My Drive/MS_data_k_fold_3D/Intersection/Prepared_data/3/record.json\n",
            "0.2556370496749878\n",
            "a\n",
            "0.3\n",
            "0.2556370496749878\n",
            "a\n",
            "0.3\n",
            "drive/My Drive/MS_data_k_fold_3D/Intersection/Prepared_data/4/record.json\n",
            "0.3282919228076935\n",
            "a\n",
            "0.3\n",
            "0.3282919228076935\n",
            "a\n",
            "0.3\n",
            "drive/My Drive/MS_data_k_fold_3D/Intersection/Prepared_data/5/record.json\n",
            "0.6523683071136475\n",
            "a\n",
            "0.3\n",
            "0.6523683071136475\n",
            "a\n",
            "0.3\n",
            "drive/My Drive/MS_data_k_fold_3D/Major/Prepared_data/record_final.json\n",
            "drive/My Drive/MS_data_k_fold_3D/Major/Prepared_data/1/record.json\n",
            "0.30994877219200134\n",
            "b\n",
            "0.55\n",
            "0.30994877219200134\n",
            "b\n",
            "0.55\n",
            "drive/My Drive/MS_data_k_fold_3D/Major/Prepared_data/2/record.json\n",
            "0.5300516486167908\n",
            "b\n",
            "0.55\n",
            "0.5300516486167908\n",
            "b\n",
            "0.55\n",
            "drive/My Drive/MS_data_k_fold_3D/Major/Prepared_data/3/record.json\n",
            "0.4753015637397766\n",
            "b\n",
            "0.55\n",
            "0.4753015637397766\n",
            "b\n",
            "0.55\n",
            "drive/My Drive/MS_data_k_fold_3D/Major/Prepared_data/4/record.json\n",
            "0.623205840587616\n",
            "b\n",
            "0.55\n",
            "0.623205840587616\n",
            "b\n",
            "0.55\n",
            "drive/My Drive/MS_data_k_fold_3D/Major/Prepared_data/5/record.json\n",
            "0.5271483659744263\n",
            "a\n",
            "0.55\n",
            "0.5271483659744263\n",
            "a\n",
            "0.55\n",
            "drive/My Drive/MS_data_k_fold_3D/Union/Prepared_data/record_final.json\n",
            "drive/My Drive/MS_data_k_fold_3D/Union/Prepared_data/1/record.json\n",
            "0.9949772953987122\n",
            "b\n",
            "0\n",
            "0.9949772953987122\n",
            "b\n",
            "0\n",
            "drive/My Drive/MS_data_k_fold_3D/Union/Prepared_data/2/record.json\n",
            "0.991500198841095\n",
            "a\n",
            "0\n",
            "0.991500198841095\n",
            "a\n",
            "0\n",
            "drive/My Drive/MS_data_k_fold_3D/Union/Prepared_data/3/record.json\n",
            "0.998291015625\n",
            "a\n",
            "0\n",
            "0.998291015625\n",
            "a\n",
            "0\n",
            "drive/My Drive/MS_data_k_fold_3D/Union/Prepared_data/4/record.json\n",
            "0.9971104860305786\n",
            "a\n",
            "0\n",
            "0.9971104860305786\n",
            "a\n",
            "0\n",
            "drive/My Drive/MS_data_k_fold_3D/Union/Prepared_data/5/record.json\n",
            "0.9951809048652649\n",
            "a\n",
            "0\n",
            "0.9951809048652649\n",
            "a\n",
            "0\n"
          ],
          "name": "stdout"
        }
      ]
    },
    {
      "cell_type": "markdown",
      "metadata": {
        "id": "ZpP9PBkJo3h7",
        "colab_type": "text"
      },
      "source": [
        "## Generate For 2D"
      ]
    },
    {
      "cell_type": "code",
      "metadata": {
        "id": "bn5Xv0FBo6e_",
        "colab_type": "code",
        "colab": {}
      },
      "source": [
        "import os\n",
        "import json"
      ],
      "execution_count": 0,
      "outputs": []
    },
    {
      "cell_type": "code",
      "metadata": {
        "id": "aD5Ii_OjpFYT",
        "colab_type": "code",
        "colab": {}
      },
      "source": [
        "def generate_2D(fldr,lt=0):\n",
        "  k={}\n",
        "  cnt=0\n",
        "  path='drive/My Drive/MS_data_k_fold/'\n",
        "  ext_p=\"Prepared_data/\"\n",
        "  file_final=path+fldr+'/'+ext_p+'record_final.json'\n",
        "  print(file_final)\n",
        "  i=1\n",
        "  while (i<=5):\n",
        "    file_l=path+fldr+'/'+ext_p+str(i)+'/record.json'\n",
        "    print(file_l)\n",
        "    f=open(file_l,'r')\n",
        "    data=json.load(f)\n",
        "    for n in data.keys():\n",
        "      for key in data[n].keys():\n",
        "        if k.get(key) is None:\n",
        "          print(float((data[n][\"testing\"])[2]))\n",
        "          print(\"b\")\n",
        "          print(lt)\n",
        "          if float((data[n][\"testing\"])[2])>lt:\n",
        "            k[key]=data[n].get(key)\n",
        "            cnt+=1\n",
        "        else:\n",
        "          \n",
        "          print(float((data[n][\"testing\"])[2]))\n",
        "          print(\"a\")\n",
        "          print(lt)\n",
        "          if float((data[n][\"testing\"])[2])>lt:\n",
        "            j=0\n",
        "            while j<len(data[n][\"testing\"]):\n",
        "              (k[key])[j]+=(data[n][key])[j]\n",
        "              j+=1\n",
        "            cnt+=1\n",
        "    i+=1\n",
        "  for n in k.keys():\n",
        "    j=0\n",
        "    while j<len(k[n]):\n",
        "      (k[n])[j]/=(cnt/2)\n",
        "      j+=1\n",
        "\n",
        "  with open(file_final, \"w\") as outfile:\n",
        "\t\t\tjson.dump(k, outfile)\n",
        "   "
      ],
      "execution_count": 0,
      "outputs": []
    },
    {
      "cell_type": "code",
      "metadata": {
        "id": "MEy2nYHxpJ7n",
        "colab_type": "code",
        "colab": {}
      },
      "source": [
        "def call_generate():\n",
        "  fldr=['intersection','Major','union']\n",
        "  lt=[0.25,0.40,0]\n",
        "  i=0\n",
        "  while i<3:\n",
        "    generate_2D(fldr[i],lt[i])\n",
        "    i+=1"
      ],
      "execution_count": 0,
      "outputs": []
    },
    {
      "cell_type": "code",
      "metadata": {
        "id": "zDU-m8C5pKw6",
        "colab_type": "code",
        "colab": {
          "base_uri": "https://localhost:8080/",
          "height": 1000
        },
        "outputId": "77f2cbf0-8c1f-44ad-9f54-c081fe438c5f"
      },
      "source": [
        "call_generate()"
      ],
      "execution_count": 39,
      "outputs": [
        {
          "output_type": "stream",
          "text": [
            "drive/My Drive/MS_data_k_fold/intersection/Prepared_data/record_final.json\n",
            "drive/My Drive/MS_data_k_fold/intersection/Prepared_data/1/record.json\n",
            "0.3094695806503296\n",
            "b\n",
            "0.25\n",
            "0.3094695806503296\n",
            "b\n",
            "0.25\n",
            "drive/My Drive/MS_data_k_fold/intersection/Prepared_data/2/record.json\n",
            "0.26662400364875793\n",
            "a\n",
            "0.25\n",
            "0.26662400364875793\n",
            "a\n",
            "0.25\n",
            "drive/My Drive/MS_data_k_fold/intersection/Prepared_data/3/record.json\n",
            "0.44407472014427185\n",
            "a\n",
            "0.25\n",
            "0.44407472014427185\n",
            "a\n",
            "0.25\n",
            "drive/My Drive/MS_data_k_fold/intersection/Prepared_data/4/record.json\n",
            "0.29238367080688477\n",
            "a\n",
            "0.25\n",
            "0.29238367080688477\n",
            "a\n",
            "0.25\n",
            "drive/My Drive/MS_data_k_fold/intersection/Prepared_data/5/record.json\n",
            "0.450484037399292\n",
            "a\n",
            "0.25\n",
            "0.450484037399292\n",
            "a\n",
            "0.25\n",
            "drive/My Drive/MS_data_k_fold/Major/Prepared_data/record_final.json\n",
            "drive/My Drive/MS_data_k_fold/Major/Prepared_data/1/record.json\n",
            "0.6144441366195679\n",
            "b\n",
            "0.4\n",
            "0.6144441366195679\n",
            "b\n",
            "0.4\n",
            "drive/My Drive/MS_data_k_fold/Major/Prepared_data/2/record.json\n",
            "0.29465606808662415\n",
            "a\n",
            "0.4\n",
            "0.29465606808662415\n",
            "a\n",
            "0.4\n",
            "drive/My Drive/MS_data_k_fold/Major/Prepared_data/3/record.json\n",
            "0.3531566858291626\n",
            "a\n",
            "0.4\n",
            "0.3531566858291626\n",
            "a\n",
            "0.4\n",
            "drive/My Drive/MS_data_k_fold/Major/Prepared_data/4/record.json\n",
            "0.5378054976463318\n",
            "a\n",
            "0.4\n",
            "0.5378054976463318\n",
            "a\n",
            "0.4\n",
            "drive/My Drive/MS_data_k_fold/Major/Prepared_data/5/record.json\n",
            "0.6144441366195679\n",
            "a\n",
            "0.4\n",
            "0.6144441366195679\n",
            "a\n",
            "0.4\n",
            "drive/My Drive/MS_data_k_fold/union/Prepared_data/record_final.json\n",
            "drive/My Drive/MS_data_k_fold/union/Prepared_data/1/record.json\n",
            "0.9978035688400269\n",
            "b\n",
            "0\n",
            "0.9978035688400269\n",
            "b\n",
            "0\n",
            "drive/My Drive/MS_data_k_fold/union/Prepared_data/2/record.json\n",
            "0.9998209476470947\n",
            "a\n",
            "0\n",
            "0.9998209476470947\n",
            "a\n",
            "0\n",
            "drive/My Drive/MS_data_k_fold/union/Prepared_data/3/record.json\n",
            "0.9994769096374512\n",
            "a\n",
            "0\n",
            "0.9994769096374512\n",
            "a\n",
            "0\n",
            "drive/My Drive/MS_data_k_fold/union/Prepared_data/4/record.json\n",
            "0.9999362230300903\n",
            "a\n",
            "0\n",
            "0.9999362230300903\n",
            "a\n",
            "0\n",
            "drive/My Drive/MS_data_k_fold/union/Prepared_data/5/record.json\n",
            "0.9974088072776794\n",
            "a\n",
            "0\n",
            "0.9974088072776794\n",
            "a\n",
            "0\n"
          ],
          "name": "stdout"
        }
      ]
    }
  ]
}