{
  "nbformat": 4,
  "nbformat_minor": 0,
  "metadata": {
    "colab": {
      "name": "Multiple_sclerosis_detection_K_fold_3D_union_data_preparation.ipynb",
      "provenance": [],
      "machine_shape": "hm"
    },
    "kernelspec": {
      "name": "python3",
      "display_name": "Python 3"
    }
  },
  "cells": [
    {
      "cell_type": "markdown",
      "metadata": {
        "id": "FygMFVB8zYgn",
        "colab_type": "text"
      },
      "source": [
        "## Mounter"
      ]
    },
    {
      "cell_type": "code",
      "metadata": {
        "id": "l2978vwzxVxk",
        "colab_type": "code",
        "outputId": "afad9aff-f98e-4976-eadf-e9d13e885f28",
        "colab": {
          "base_uri": "https://localhost:8080/",
          "height": 122
        }
      },
      "source": [
        "from google.colab import drive\n",
        "drive.mount('/content/drive')"
      ],
      "execution_count": 0,
      "outputs": [
        {
          "output_type": "stream",
          "text": [
            "Go to this URL in a browser: https://accounts.google.com/o/oauth2/auth?client_id=947318989803-6bn6qk8qdgf4n4g3pfee6491hc0brc4i.apps.googleusercontent.com&redirect_uri=urn%3aietf%3awg%3aoauth%3a2.0%3aoob&response_type=code&scope=email%20https%3a%2f%2fwww.googleapis.com%2fauth%2fdocs.test%20https%3a%2f%2fwww.googleapis.com%2fauth%2fdrive%20https%3a%2f%2fwww.googleapis.com%2fauth%2fdrive.photos.readonly%20https%3a%2f%2fwww.googleapis.com%2fauth%2fpeopleapi.readonly\n",
            "\n",
            "Enter your authorization code:\n",
            "··········\n",
            "Mounted at /content/drive\n"
          ],
          "name": "stdout"
        }
      ]
    },
    {
      "cell_type": "markdown",
      "metadata": {
        "id": "LwTztcj7zjhg",
        "colab_type": "text"
      },
      "source": [
        "## Function Declaration"
      ]
    },
    {
      "cell_type": "code",
      "metadata": {
        "id": "r80t5nQezqEA",
        "colab_type": "code",
        "colab": {}
      },
      "source": [
        "import tensorflow as tf\n",
        "import numpy as np\n",
        "import os\n",
        "import nibabel as nib\n",
        "import cv2 as cv\n",
        "import matplotlib.pyplot as plt\n",
        "    \n",
        "def modality(Path,index):\n",
        "    X = []\n",
        "    X_per_paitent = []\n",
        "    p=os.listdir(Path) \n",
        "    recs_in=[]\n",
        "    counter=0\n",
        "    counter_2=0\n",
        "\n",
        "    for i in p[:14]:                                                                      # Loading all the folders in the given path\n",
        "        q = os.listdir(os.path.join(Path,i))     \n",
        "\n",
        "        x = nib.load(os.path.join(Path,i,q[index]))         \n",
        "        f = x.get_fdata()\n",
        "        f = np.asarray(f,'float32')\n",
        "        \n",
        "        ct=0\n",
        "        recs_in.append(f.shape[2])\n",
        "        #print(counter_2)\n",
        "        counter_2+=1\n",
        "        for j in range(f.shape[2]):                                                        # Processing the MRI Scan in the axial view\n",
        "            _slice = cv.resize(f[:,:,j],(256,256),interpolation=cv.INTER_NEAREST)             # Resizing the slice to the shape(256,256)\n",
        "            if(index not in [3,4,5,6,7,8,9] and np.sum(_slice) != 0 ):  \n",
        "                if index==1:\n",
        "                  ct+=1 \n",
        "                  counter+=1                                         # To check whether the slice is null or not\n",
        "              #  _slice = _slice / (np.max(_slice) + 0.00001)                               # Normalization\n",
        "                  _slice = (_slice - np.mean(_slice) + 0.00001) / (np.std(_slice) + 0.00001)\n",
        "                   # Standardization\n",
        "                else:\n",
        "                                              # To check whether the slice is null or not\n",
        "              #  _slice = _slice / (np.max(_slice) + 0.00001)                               # Normalization\n",
        "                  _slice = (_slice - np.mean(_slice) + 0.00001) / (np.std(_slice) + 0.00001) # Standardization\n",
        "            elif(index in [3,4,5,6,7,8,9]):   # if index = 3, Then it is output mask and we don't normalize or standardize it \n",
        "                _slice = np.array(_slice)\n",
        "                _slice[_slice > 0] = 1.0\n",
        "                _slice[_slice < 0] = 0.0\n",
        "            _slice = _slice.T\n",
        "            _slice = _slice[:,:,np.newaxis]\n",
        "            X.append(_slice)\n",
        "   # X=np.array(X,dtype='float32')\n",
        "    return X,recs_in"
      ],
      "execution_count": 0,
      "outputs": []
    },
    {
      "cell_type": "code",
      "metadata": {
        "id": "ZHV7oWn5zy64",
        "colab_type": "code",
        "colab": {}
      },
      "source": [
        "def remove_null_samples(X_Dp, X_Flair, X_Gado, X_T1, X_T2, Y_Manual,recs): \n",
        "     \n",
        "    X=[]\n",
        "    Y=[]\n",
        "    counter=0\n",
        "    counter_2=0\n",
        "    mult=0;\n",
        "    count=0\n",
        "    rec=[]\n",
        "    keep_count=[]\n",
        "    keep=[]\n",
        "    print(recs)\n",
        "    r=np.array(recs,dtype='float32')\n",
        "    print(np.sum(r))\n",
        "    print(len(X_Dp))\n",
        "\n",
        "    for i in range(len(X_Dp)):  \n",
        "        if counter==(recs[mult]):\n",
        "          print(counter)\n",
        "          mult+=1\n",
        "          rec.append(count)\n",
        "          counter=0\n",
        "          print(counter_2)\n",
        "          count=0\n",
        "        final_slice = np.concatenate((X_Dp[i],X_Flair[i],X_Gado[i],X_T1[i],X_T2[i]), axis = -1)\n",
        "        if(np.sum(final_slice) != 0):        # checking whether the final slice is empty or not             \n",
        "            X.append(final_slice)\n",
        "            Y.append(Y_Manual[i])\n",
        "            \n",
        "            count+=1\n",
        "        counter+=1\n",
        "        counter_2+=1\n",
        "\n",
        "    \n",
        "    rec.append(count)\n",
        "#   Converting the list into array  \n",
        "    X=np.array(X,dtype='float32')\n",
        "    Y=np.array(Y,dtype='float32')\n",
        "    rec=np.array(rec,dtype='float32')\n",
        "    \n",
        "    return X,Y,rec\n"
      ],
      "execution_count": 0,
      "outputs": []
    },
    {
      "cell_type": "code",
      "metadata": {
        "id": "pzuTp93Nz7mB",
        "colab_type": "code",
        "colab": {}
      },
      "source": [
        "def store_data(X,Y,rec):\n",
        "    np.save(\"drive/My Drive/MS_data/X_union_new.npy\",X)\n",
        "    np.save(\"drive/My Drive/MS_data/Y_union_new.npy\",Y)\n",
        "    np.save(\"drive/My Drive/MS_data/union_new_rec_after_removal.npy\",rec)"
      ],
      "execution_count": 0,
      "outputs": []
    },
    {
      "cell_type": "code",
      "metadata": {
        "id": "Z8ZYfAsH0DTU",
        "colab_type": "code",
        "colab": {}
      },
      "source": [
        "import math\n",
        "def union(Y_1,Y_2,Y_3,Y_4,Y_5,Y_6,Y_7):\n",
        "  Y=[]\n",
        "  sum2=[]\n",
        "  flag=0\n",
        "  #y=np.array()\n",
        "  print(\"A\")\n",
        "  for i in range (len(Y_1)):\n",
        "    #print(Y_1[i])\n",
        "    \n",
        "        f=np.concatenate((Y_1[i],Y_2[i],Y_3[i],Y_4[i],Y_5[i],Y_6[i],Y_7[i]),axis=-1)\n",
        "        sum=np.sum(f,axis=2)\n",
        "       # print(sum)\n",
        "        \n",
        "          #print(j)\n",
        "        sum_1=np.divide(sum,7)\n",
        "        sum_1=np.ceil(sum_1)\n",
        "        sum2.append(sum_1)\n",
        "\n",
        "    #sum2=np.array(sum2,dtype='float32')\n",
        "    \n",
        "        \n",
        "  return sum2"
      ],
      "execution_count": 0,
      "outputs": []
    },
    {
      "cell_type": "markdown",
      "metadata": {
        "id": "X0p7-5GW0jg1",
        "colab_type": "text"
      },
      "source": [
        "## Data Preprocessing"
      ]
    },
    {
      "cell_type": "code",
      "metadata": {
        "id": "_8dHHXGH0qkz",
        "colab_type": "code",
        "colab": {}
      },
      "source": [
        "import numpy as np\n",
        "import matplotlib.pyplot as plt\n",
        "import tensorflow as tf\n",
        "from sklearn.model_selection import train_test_split\n",
        "\n",
        "#import keras\n",
        "from tensorflow.keras.models import Model, load_model\n",
        "from tensorflow.keras.layers import Input ,BatchNormalization , Activation \n",
        "from tensorflow.keras.layers import Conv2D, UpSampling2D\n",
        "from tensorflow.keras.layers import MaxPooling2D\n",
        "from tensorflow.keras.layers import concatenate\n",
        "from tensorflow.keras.callbacks import EarlyStopping, ModelCheckpoint\n",
        "from tensorflow.keras.optimizers import Adam\n",
        "from sklearn.model_selection import train_test_split\n",
        "\n",
        "\n",
        "#import dataPrepare as process\n",
        "# Loading all the 5 different modalities of each MRI Scan of all 15 different patients and 1st rater Manual SegmentationX_Dp      =   modality(Path,0)\n",
        "#import Modified_UNet \n",
        "#import plots\n",
        "#import Metrics\n",
        "\n",
        "# Setting the path\n",
        "Path='drive/My Drive/Pre-processed'\n",
        "\n",
        "\n",
        "\n",
        "# Loading all the 5 different modalities of each MRI Scan of all 15 different patients and 1st rater Manual Segmentation\n",
        "X_Dp_t,rec      =   modality(Path,0)\n",
        "X_Flair_t,rec_1   =   modality(Path,1)\n",
        "X_Gado_t,rec    =   modality(Path,2)\n",
        "X_T1_t,rec      =   modality(Path,10)\n",
        "X_T2_t,rec      =   modality(Path,11)\n",
        "rec=np.array(rec_1,dtype='float32')\n",
        "np.save(\"drive/My Drive/MS_data/union_new_rec_before_removal.npy\",rec)"
      ],
      "execution_count": 0,
      "outputs": []
    },
    {
      "cell_type": "code",
      "metadata": {
        "id": "gZ7uLDQt01A9",
        "colab_type": "code",
        "colab": {}
      },
      "source": [
        "import numpy as np\n",
        "import matplotlib.pyplot as plt\n",
        "import tensorflow as tf\n",
        "from sklearn.model_selection import train_test_split\n",
        "\n",
        "#import keras\n",
        "from tensorflow.keras.models import Model, load_model\n",
        "from tensorflow.keras.layers import Input ,BatchNormalization , Activation \n",
        "from tensorflow.keras.layers import Conv2D, UpSampling2D\n",
        "from tensorflow.keras.layers import MaxPooling2D\n",
        "from tensorflow.keras.layers import concatenate\n",
        "from tensorflow.keras.callbacks import EarlyStopping, ModelCheckpoint\n",
        "from tensorflow.keras.optimizers import Adam\n",
        "from sklearn.model_selection import train_test_split\n",
        "\n",
        "\n",
        "#import dataPrepare as process\n",
        "# Loading all the 5 different modalities of each MRI Scan of all 15 different patients and 1st rater Manual SegmentationX_Dp      =   modality(Path,0)\n",
        "#import Modified_UNet \n",
        "#import plots\n",
        "#import Metrics\n",
        "\n",
        "# Setting the path\n",
        "Path='drive/My Drive/Pre-processed'\n",
        "Y_1,rec  =   modality(Path,3)\n",
        "Y_2,rec  =   modality(Path,4)\n",
        "Y_3,rec  =   modality(Path,5)\n",
        "Y_4,rec  =   modality(Path,6)\n",
        "Y_5,rec  =   modality(Path,7)\n",
        "Y_6,rec  =   modality(Path,8)\n",
        "Y_7,rec  =   modality(Path,9)"
      ],
      "execution_count": 0,
      "outputs": []
    },
    {
      "cell_type": "code",
      "metadata": {
        "id": "cF1RZJBB04cN",
        "colab_type": "code",
        "outputId": "a6f48f14-67b8-44af-b800-8546d786c60f",
        "colab": {
          "base_uri": "https://localhost:8080/",
          "height": 34
        }
      },
      "source": [
        "Y_Manual=union(Y_1,Y_2,Y_3,Y_4,Y_5,Y_6,Y_7)"
      ],
      "execution_count": 0,
      "outputs": [
        {
          "output_type": "stream",
          "text": [
            "A\n"
          ],
          "name": "stdout"
        }
      ]
    },
    {
      "cell_type": "code",
      "metadata": {
        "id": "BVcFur4O1ElJ",
        "colab_type": "code",
        "colab": {}
      },
      "source": [
        "import numpy as np\n",
        "\n",
        "np.save(\"drive/My Drive/MS_data/Y_manual_new.npy\",Y_Manual)"
      ],
      "execution_count": 0,
      "outputs": []
    },
    {
      "cell_type": "code",
      "metadata": {
        "id": "PYTb_9a71JGl",
        "colab_type": "code",
        "colab": {}
      },
      "source": [
        "Y_manual=list(Y_Manual)"
      ],
      "execution_count": 0,
      "outputs": []
    },
    {
      "cell_type": "code",
      "metadata": {
        "id": "AFkHdAL51MiB",
        "colab_type": "code",
        "colab": {}
      },
      "source": [
        "Y_Manual=np.load(\"drive/My Drive/MS_data/Y_manual_new.npy\")"
      ],
      "execution_count": 0,
      "outputs": []
    },
    {
      "cell_type": "code",
      "metadata": {
        "id": "zBD_tiC51Sig",
        "colab_type": "code",
        "outputId": "3eb208d4-bfed-4534-e0f8-a48545fd084e",
        "colab": {
          "base_uri": "https://localhost:8080/",
          "height": 510
        }
      },
      "source": [
        "X, Y,rec = remove_null_samples(X_Dp_t, X_Flair_t, X_Gado_t, X_T1_t, X_T2_t, Y_manual,rec_1)"
      ],
      "execution_count": 0,
      "outputs": [
        {
          "output_type": "stream",
          "text": [
            "[256, 256, 512, 512, 256, 512, 512, 256, 512, 256, 336, 336, 336, 336]\n",
            "5184.0\n",
            "5184\n",
            "256\n",
            "256\n",
            "256\n",
            "512\n",
            "512\n",
            "1024\n",
            "512\n",
            "1536\n",
            "256\n",
            "1792\n",
            "512\n",
            "2304\n",
            "512\n",
            "2816\n",
            "256\n",
            "3072\n",
            "512\n",
            "3584\n",
            "256\n",
            "3840\n",
            "336\n",
            "4176\n",
            "336\n",
            "4512\n",
            "336\n",
            "4848\n"
          ],
          "name": "stdout"
        }
      ]
    },
    {
      "cell_type": "code",
      "metadata": {
        "id": "XKslPy321XhE",
        "colab_type": "code",
        "colab": {}
      },
      "source": [
        "store_data(X,Y,rec)"
      ],
      "execution_count": 0,
      "outputs": []
    },
    {
      "cell_type": "code",
      "metadata": {
        "id": "VKrHVthM1cbS",
        "colab_type": "code",
        "colab": {}
      },
      "source": [
        "import numpy as np\n",
        "Y=np.load(\"drive/My Drive/MS_data/Y_union_new.npy\")"
      ],
      "execution_count": 0,
      "outputs": []
    },
    {
      "cell_type": "code",
      "metadata": {
        "id": "ybVfU2xU1iQ0",
        "colab_type": "code",
        "colab": {}
      },
      "source": [
        "Y_Manual=list(Y)"
      ],
      "execution_count": 0,
      "outputs": []
    },
    {
      "cell_type": "code",
      "metadata": {
        "id": "Eh9pIuJt1kuy",
        "colab_type": "code",
        "colab": {}
      },
      "source": [
        "Y_1=Y_Manual[:1401]\n",
        "Y_2=Y_Manual[1401:]"
      ],
      "execution_count": 0,
      "outputs": []
    },
    {
      "cell_type": "code",
      "metadata": {
        "id": "f0s2Kere1nha",
        "colab_type": "code",
        "colab": {}
      },
      "source": [
        "p=[]\n",
        "y=[]\n",
        "z=[]\n",
        "a=[]\n",
        "n=1\n",
        "for i in Y_1:\n",
        "  print(n)\n",
        "  for j in i:\n",
        "    for k in j:\n",
        "      #print(k)\n",
        "      a.append(k)\n",
        "     # print(a)\n",
        "      z.append(a)\n",
        "      a=[]\n",
        "    #print(z)\n",
        "    y.append(z)\n",
        "    z=[]\n",
        "  p.append(y)\n",
        "  y=[]\n",
        "  n+=1\n",
        "\n",
        "\n",
        "#print(p)\n"
      ],
      "execution_count": 0,
      "outputs": []
    },
    {
      "cell_type": "code",
      "metadata": {
        "id": "wraXUvVo11r0",
        "colab_type": "code",
        "colab": {}
      },
      "source": [
        "temp=np.array(p)\n",
        "np.save(\"drive/My Drive/MS_data/temp_1_new.npy\",temp)"
      ],
      "execution_count": 0,
      "outputs": []
    },
    {
      "cell_type": "code",
      "metadata": {
        "id": "ISbi2eBJ17Ci",
        "colab_type": "code",
        "colab": {}
      },
      "source": [
        "q=[]\n",
        "y=[]\n",
        "z=[]\n",
        "a=[]\n",
        "n=1401\n",
        "for i in Y_2:\n",
        "  print(n)\n",
        "  for j in i:\n",
        "    for k in j:\n",
        "      #print(k)\n",
        "      a.append(k)\n",
        "     # print(a)\n",
        "      z.append(a)\n",
        "      a=[]\n",
        "    #print(z)\n",
        "    y.append(z)\n",
        "    z=[]\n",
        "  q.append(y)\n",
        "  y=[]\n",
        "  n+=1\n"
      ],
      "execution_count": 0,
      "outputs": []
    },
    {
      "cell_type": "code",
      "metadata": {
        "id": "gE7scmlN1-xC",
        "colab_type": "code",
        "colab": {}
      },
      "source": [
        "temp2=np.array(q)\n",
        "np.save(\"drive/My Drive/MS_data/temp_2_new.npy\",temp2)"
      ],
      "execution_count": 0,
      "outputs": []
    },
    {
      "cell_type": "code",
      "metadata": {
        "id": "Oi-CbTkZ2BdH",
        "colab_type": "code",
        "colab": {}
      },
      "source": [
        "temp=np.load(\"drive/My Drive/MS_data/temp_1_new.npy\")\n",
        "p=list(temp)"
      ],
      "execution_count": 0,
      "outputs": []
    },
    {
      "cell_type": "code",
      "metadata": {
        "id": "QMSnWgPj2G1r",
        "colab_type": "code",
        "colab": {}
      },
      "source": [
        "temp2=np.load(\"drive/My Drive/MS_data/temp_2_new.npy\")\n",
        "q=list(temp2)"
      ],
      "execution_count": 0,
      "outputs": []
    },
    {
      "cell_type": "code",
      "metadata": {
        "id": "uJdHQxgB2PZo",
        "colab_type": "code",
        "colab": {}
      },
      "source": [
        "j=1401\n",
        "for i in q:\n",
        "  print(j)\n",
        "  p.append(i)\n",
        "  j+=1"
      ],
      "execution_count": 0,
      "outputs": []
    },
    {
      "cell_type": "code",
      "metadata": {
        "id": "2r9Yjmai2Qoh",
        "colab_type": "code",
        "colab": {}
      },
      "source": [
        "np.save(\"drive/My Drive/MS_data/Y_Manual_2_new.npy\",p)"
      ],
      "execution_count": 0,
      "outputs": []
    },
    {
      "cell_type": "code",
      "metadata": {
        "id": "YsXcNxKI2Zwx",
        "colab_type": "code",
        "colab": {}
      },
      "source": [
        "import numpy as np\n",
        "\n",
        "P=np.load(\"drive/My Drive/MS_data/Y_Manual_2_new.npy\")"
      ],
      "execution_count": 0,
      "outputs": []
    },
    {
      "cell_type": "code",
      "metadata": {
        "id": "Lq6T--3g2dlx",
        "colab_type": "code",
        "colab": {}
      },
      "source": [
        "Y=P"
      ],
      "execution_count": 0,
      "outputs": []
    },
    {
      "cell_type": "code",
      "metadata": {
        "id": "lxOrxDK72gIx",
        "colab_type": "code",
        "colab": {}
      },
      "source": [
        "Y=list(Y)"
      ],
      "execution_count": 0,
      "outputs": []
    },
    {
      "cell_type": "code",
      "metadata": {
        "id": "gWjZP8wE2i25",
        "colab_type": "code",
        "colab": {}
      },
      "source": [
        "dummy_y=[]\n",
        "d_temp_1=[]\n",
        "d_temp_2=[]\n",
        "for i in range(len(Y[0])):\n",
        "  d_temp_1=[]\n",
        "  for j in range(len(Y[0][0])):\n",
        "    d_temp_2=[]\n",
        "    for k in range(len(Y[0][0][0])):\n",
        "      d_temp_2.append(0.)\n",
        "    d_temp_1.append(d_temp_2)\n",
        "  dummy_y.append(d_temp_1)\n",
        "Y_dummy=np.array(dummy_y, dtype='float32')\n",
        "\n",
        "\n",
        "\n",
        " "
      ],
      "execution_count": 0,
      "outputs": []
    },
    {
      "cell_type": "code",
      "metadata": {
        "id": "-dG6-w9o2nqX",
        "colab_type": "code",
        "colab": {}
      },
      "source": [
        "X=np.load(\"drive/My Drive/MS_data/X_union_new.npy\")"
      ],
      "execution_count": 0,
      "outputs": []
    },
    {
      "cell_type": "code",
      "metadata": {
        "id": "bnesIeEK2rAP",
        "colab_type": "code",
        "colab": {}
      },
      "source": [
        "X=list(X)"
      ],
      "execution_count": 0,
      "outputs": []
    },
    {
      "cell_type": "code",
      "metadata": {
        "id": "wA-VfXo52udT",
        "colab_type": "code",
        "colab": {}
      },
      "source": [
        "dummy_x=[]\n",
        "d_temp_1=[]\n",
        "d_temp_2=[]\n",
        "for i in range(len(X[0])):\n",
        "  d_temp_1=[]\n",
        "  for j in range(len(X[0][0])):\n",
        "    d_temp_2=[]\n",
        "    for k in range(len(X[0][0][0])):\n",
        "      d_temp_2.append(0.)\n",
        "    d_temp_1.append(d_temp_2)\n",
        "  dummy_x.append(d_temp_1)\n",
        "X_dummy=np.array(dummy_x, dtype='float32')"
      ],
      "execution_count": 0,
      "outputs": []
    },
    {
      "cell_type": "code",
      "metadata": {
        "id": "tQ98lt7w2x1k",
        "colab_type": "code",
        "colab": {}
      },
      "source": [
        "import numpy as np\n",
        "\n",
        "#Y=np.load(\"drive/My Drive/MS_data/Y_Manual_2_new.npy\")\n",
        "X=np.load(\"drive/My Drive/MS_data/X_union_new.npy\")"
      ],
      "execution_count": 0,
      "outputs": []
    },
    {
      "cell_type": "code",
      "metadata": {
        "id": "8gIxTzsn21LI",
        "colab_type": "code",
        "colab": {}
      },
      "source": [
        "X=list(X)"
      ],
      "execution_count": 0,
      "outputs": []
    },
    {
      "cell_type": "code",
      "metadata": {
        "id": "lPC6THJe23xK",
        "colab_type": "code",
        "colab": {}
      },
      "source": [
        "extra=[0,1,6,4,6,0,5,0,4,3,1,3,3,0]"
      ],
      "execution_count": 0,
      "outputs": []
    },
    {
      "cell_type": "code",
      "metadata": {
        "id": "Q0GPiTr627Du",
        "colab_type": "code",
        "colab": {}
      },
      "source": [
        "ext=np.array(extra,dtype='float32')"
      ],
      "execution_count": 0,
      "outputs": []
    },
    {
      "cell_type": "code",
      "metadata": {
        "id": "6qqBQPPc2-bZ",
        "colab_type": "code",
        "colab": {}
      },
      "source": [
        "r=np.load(\"drive/My Drive/MS_data/union_new_rec_after_removal.npy\")"
      ],
      "execution_count": 0,
      "outputs": []
    },
    {
      "cell_type": "code",
      "metadata": {
        "id": "WdzUWq2L3DXX",
        "colab_type": "code",
        "colab": {}
      },
      "source": [
        "rec=list(r)"
      ],
      "execution_count": 0,
      "outputs": []
    },
    {
      "cell_type": "code",
      "metadata": {
        "id": "Y7dJhmCc3GTl",
        "colab_type": "code",
        "outputId": "c9964c00-fd8d-45ad-97df-06af63fd50b5",
        "colab": {
          "base_uri": "https://localhost:8080/",
          "height": 867
        }
      },
      "source": [
        "j=0\n",
        "index=0\n",
        "for i in extra:\n",
        "  k=0\n",
        "  \n",
        "  print(i)\n",
        "  index=index+rec[j]\n",
        "  j+=1\n",
        "  while(k<i):\n",
        "    index=index+k\n",
        "    print(index)\n",
        "    index=int(index)\n",
        "    Y.insert(index,Y_dummy)\n",
        "    X.insert(index,X_dummy)\n",
        "\n",
        "    k+=1"
      ],
      "execution_count": 0,
      "outputs": [
        {
          "output_type": "stream",
          "text": [
            "0\n",
            "1\n",
            "279.0\n",
            "6\n",
            "561.0\n",
            "562\n",
            "564\n",
            "567\n",
            "571\n",
            "576\n",
            "4\n",
            "844.0\n",
            "845\n",
            "847\n",
            "850\n",
            "6\n",
            "988.0\n",
            "989\n",
            "991\n",
            "994\n",
            "998\n",
            "1003\n",
            "0\n",
            "5\n",
            "1590.0\n",
            "1591\n",
            "1593\n",
            "1596\n",
            "1600\n",
            "0\n",
            "4\n",
            "2036.0\n",
            "2037\n",
            "2039\n",
            "2042\n",
            "3\n",
            "2183.0\n",
            "2184\n",
            "2186\n",
            "1\n",
            "2377.0\n",
            "3\n",
            "2598.0\n",
            "2599\n",
            "2601\n",
            "3\n",
            "2782.0\n",
            "2783\n",
            "2785\n",
            "0\n"
          ],
          "name": "stdout"
        }
      ]
    },
    {
      "cell_type": "code",
      "metadata": {
        "id": "2ycGauQ23LdN",
        "colab_type": "code",
        "colab": {}
      },
      "source": [
        "rec=list(r)\n",
        "X=list(X)\n",
        "Y=list(Y)"
      ],
      "execution_count": 0,
      "outputs": []
    },
    {
      "cell_type": "code",
      "metadata": {
        "id": "N6N0zq7K3N1t",
        "colab_type": "code",
        "colab": {}
      },
      "source": [
        "X=np.array(X,dtype='float32')\n",
        "Y=np.array(Y,dtype='float32')\n"
      ],
      "execution_count": 0,
      "outputs": []
    },
    {
      "cell_type": "code",
      "metadata": {
        "id": "Uixp3ftu3TQd",
        "colab_type": "code",
        "colab": {}
      },
      "source": [
        "np.save(\"drive/My Drive/MS_data/Actual_X.npy\",X)\n",
        "np.save(\"drive/My Drive/MS_data/Actual_Y.npy\",Y)"
      ],
      "execution_count": 0,
      "outputs": []
    },
    {
      "cell_type": "code",
      "metadata": {
        "id": "ryNt1YkZ3UVM",
        "colab_type": "code",
        "colab": {}
      },
      "source": [
        "import numpy as np\n",
        "\n",
        "Y=np.load(\"drive/My Drive/MS_data/Actual_X.npy\")\n",
        "X=np.load(\"drive/My Drive/MS_data/Actual_Y.npy\")"
      ],
      "execution_count": 0,
      "outputs": []
    },
    {
      "cell_type": "code",
      "metadata": {
        "id": "lkqfS1Nm3ZLJ",
        "colab_type": "code",
        "colab": {}
      },
      "source": [
        "X_1=[]\n",
        "Y_1=[]"
      ],
      "execution_count": 0,
      "outputs": []
    },
    {
      "cell_type": "code",
      "metadata": {
        "id": "HlRHL6WX3dzJ",
        "colab_type": "code",
        "colab": {}
      },
      "source": [
        "X=list(X)\n",
        "Y=list(Y)"
      ],
      "execution_count": 0,
      "outputs": []
    },
    {
      "cell_type": "code",
      "metadata": {
        "id": "qTDt_EoF3fDE",
        "colab_type": "code",
        "colab": {}
      },
      "source": [
        "index_x_p=0\n",
        "length=8\n",
        "index_x=length\n",
        "index_y_p=0\n",
        "index_y=length\n",
        "x_temp=[]\n",
        "y_temp=[]\n",
        "\n"
      ],
      "execution_count": 0,
      "outputs": []
    },
    {
      "cell_type": "code",
      "metadata": {
        "id": "zFOkNYz83kgn",
        "colab_type": "code",
        "colab": {}
      },
      "source": [
        "while index_x<=len(X) and index_y<=len(Y):\n",
        "  x_temp=X[index_x_p:index_x]\n",
        "  y_temp=Y[index_y_p:index_y]\n",
        "  x_temp_1=np.array(x_temp,dtype='float32')\n",
        "  y_temp_1=np.array(y_temp,dtype='float32')\n",
        "  X_1.append(x_temp_1)\n",
        "  Y_1.append(y_temp_1)\n",
        "  index_y_p=index_y_p+length\n",
        "  index_x_p=index_x_p+length\n",
        "  index_x=index_x+length\n",
        "  index_y=index_y+length\n"
      ],
      "execution_count": 0,
      "outputs": []
    },
    {
      "cell_type": "code",
      "metadata": {
        "id": "MZjeYo6U3oGu",
        "colab_type": "code",
        "colab": {}
      },
      "source": [
        "X_1=np.array(X_1,dtype='float32')\n",
        "Y_1=np.array(Y_1,dtype='float32')\n"
      ],
      "execution_count": 0,
      "outputs": []
    },
    {
      "cell_type": "code",
      "metadata": {
        "id": "1jFLyACz3sCH",
        "colab_type": "code",
        "colab": {}
      },
      "source": [
        "np.save(\"drive/My Drive/MS_data/train_X.npy\",X_1)\n",
        "np.save(\"drive/My Drive/MS_data/train_Y.npy\",Y_1)"
      ],
      "execution_count": 0,
      "outputs": []
    },
    {
      "cell_type": "code",
      "metadata": {
        "id": "0oIvNNeq3zuZ",
        "colab_type": "code",
        "colab": {}
      },
      "source": [
        "import numpy as np\n",
        "\n",
        "X_1=np.load(\"drive/My Drive/MS_data/train_X.npy\")\n",
        "Y_1=np.load(\"drive/My Drive/MS_data/train_Y.npy\")"
      ],
      "execution_count": 0,
      "outputs": []
    },
    {
      "cell_type": "markdown",
      "metadata": {
        "id": "KZdvYB0t4AsL",
        "colab_type": "text"
      },
      "source": [
        "## creating train test and validation sets"
      ]
    },
    {
      "cell_type": "code",
      "metadata": {
        "id": "5ktfYhto4DDE",
        "colab_type": "code",
        "colab": {}
      },
      "source": [
        "extra=[0,1,6,4,6,0,5,0,4,3,1,3,3,0]"
      ],
      "execution_count": 0,
      "outputs": []
    },
    {
      "cell_type": "code",
      "metadata": {
        "id": "MdF9LEaS5Oiu",
        "colab_type": "code",
        "colab": {}
      },
      "source": [
        "r=np.load(\"drive/My Drive/MS_data/union_new_rec_after_removal.npy\")"
      ],
      "execution_count": 0,
      "outputs": []
    },
    {
      "cell_type": "code",
      "metadata": {
        "id": "25XRhIks5T0R",
        "colab_type": "code",
        "colab": {}
      },
      "source": [
        "rec=list(r)"
      ],
      "execution_count": 0,
      "outputs": []
    },
    {
      "cell_type": "code",
      "metadata": {
        "id": "jhnVGn-85Vvu",
        "colab_type": "code",
        "colab": {}
      },
      "source": [
        "j=0\n",
        "final=[]\n",
        "while j<len(extra):\n",
        "  leng=rec[j]+extra[j]\n",
        "  final.append(leng/8)\n",
        "  j+=1\n",
        "\n",
        "np.save(\"drive/My Drive/MS_data/union_final_size.npy\",final)"
      ],
      "execution_count": 0,
      "outputs": []
    },
    {
      "cell_type": "code",
      "metadata": {
        "id": "lnyPdZdE78rL",
        "colab_type": "code",
        "colab": {}
      },
      "source": [
        "r=np.load(\"drive/My Drive/MS_data/union_final_size.npy\")"
      ],
      "execution_count": 0,
      "outputs": []
    },
    {
      "cell_type": "code",
      "metadata": {
        "id": "N-O3RIb37_Tq",
        "colab_type": "code",
        "colab": {}
      },
      "source": [
        "rec=list(r)"
      ],
      "execution_count": 0,
      "outputs": []
    },
    {
      "cell_type": "code",
      "metadata": {
        "id": "A1zkTKzo6vvm",
        "colab_type": "code",
        "colab": {}
      },
      "source": [
        "import json\n",
        "\n",
        "i=0\n",
        "file_w=\"drive/My Drive/MS_data/per_paitent_records.json\"\n",
        "prev=0\n",
        "total=0\n",
        "dict_k={}\n",
        "while i<len(r):\n",
        "  current=r[i]\n",
        "  j=i+1\n",
        "  dict_k[str(j)]={}\n",
        "  dict_k[str(j)][\"Starting\"]=prev\n",
        "  dict_k[str(j)][\"Ending\"]=total+current-1\n",
        "  total+=current\n",
        "  prev=total\n",
        "  i+=1\n",
        "\n",
        "with open(file_w, \"w\") as outfile:\n",
        "\t\t\tjson.dump(dict_k, outfile) \n"
      ],
      "execution_count": 0,
      "outputs": []
    },
    {
      "cell_type": "code",
      "metadata": {
        "id": "A9iB9oHb7grz",
        "colab_type": "code",
        "colab": {}
      },
      "source": [
        "import random\n",
        "import json\n",
        "dict_l={}\n",
        "list_val=[]\n",
        "list_train=[]\n",
        "file_w=\"drive/My Drive/MS_data/set_divisions.json\"\n",
        "list_test=[]\n",
        "for i in range(5):\n",
        "  patient_list=['1','2','3','4','5','6','7','8','9','10','11','12','13','14']\n",
        "  for j in range(7):\n",
        "    flag=0\n",
        "    while(flag!=1):\n",
        "      num=random.randint(1,14)\n",
        "      if patient_list.count(str(num))> 0:\n",
        "        list_train.append(str(num))\n",
        "        patient_list.remove(str(num))\n",
        "        flag=1\n",
        "  if dict_l.get(\"train\") is None:\n",
        "    dict_l[\"train\"]=[list_train]\n",
        "  else:\n",
        "    dict_l[\"train\"].append(list_train)\n",
        "  list_train=[]\n",
        "  for j in range(3):\n",
        "    flag=0\n",
        "    while(flag!=1):\n",
        "      num=random.randint(1,14)\n",
        "      if patient_list.count(str(num))> 0:\n",
        "        list_val.append(str(num))\n",
        "        patient_list.remove(str(num))\n",
        "        flag=1\n",
        "  if dict_l.get(\"validate\") is None:\n",
        "    dict_l[\"validate\"]=[list_val]\n",
        "  else:\n",
        "    dict_l[\"validate\"].append(list_val)\n",
        "  list_val=[]\n",
        "  for j in range(4):\n",
        "    flag=0\n",
        "    while(flag!=1):\n",
        "      num=random.randint(1,14)\n",
        "      if patient_list.count(str(num))> 0:\n",
        "        list_test.append(str(num))\n",
        "        patient_list.remove(str(num))\n",
        "        flag=1\n",
        "  if dict_l.get(\"test\") is None:\n",
        "    dict_l[\"test\"]=[list_test]\n",
        "  else:\n",
        "    dict_l[\"test\"].append(list_test)\n",
        "  list_test=[]    \n",
        "\n",
        "with open(file_w, \"w\") as outfile:\n",
        "\t\t\tjson.dump(dict_l, outfile) \n",
        "\n",
        "    "
      ],
      "execution_count": 0,
      "outputs": []
    },
    {
      "cell_type": "code",
      "metadata": {
        "id": "IUavJT3l7jNf",
        "colab_type": "code",
        "outputId": "757ef3ff-e0ac-44fa-d984-32c6e3542813",
        "colab": {
          "base_uri": "https://localhost:8080/",
          "height": 731
        }
      },
      "source": [
        "import pandas as pd\n",
        "import numpy as np\n",
        "import json\n",
        "import os\n",
        "\n",
        "Y=np.load(\"drive/My Drive/MS_data/train_Y.npy\")\n",
        "print(len(Y))\n",
        "X=np.load(\"drive/My Drive/MS_data/train_X.npy\")\n",
        "print(len(X))\n",
        "f1=open(\"drive/My Drive/MS_data/per_paitent_records.json\")\n",
        "data_1=json.load(f1)\n",
        "f2=open(\"drive/My Drive/MS_data/set_divisions.json\")\n",
        "data_2=json.load(f2)\n",
        "i=1\n",
        "while i<=5:\n",
        "  file_1=\"drive/My Drive/MS_data/\"+str(i)\n",
        "  print(file_1)\n",
        "  os.mkdir(file_1)\n",
        "  train_list=(data_2['train'])[i-1]\n",
        "  file_1_ext=file_1+'/train'\n",
        "  print(file_1_ext)\n",
        "  os.mkdir(file_1_ext)\n",
        "  X_temp=[]\n",
        "  Y_temp=[]\n",
        "  for j in train_list:\n",
        "    st_index=data_1[str(j)][\"Starting\"]\n",
        "    end_index=data_1[str(j)][\"Ending\"]\n",
        "    X_temp.append(X[int(st_index):int(end_index)])\n",
        "    Y_temp.append(Y[int(st_index):int(end_index)])\n",
        "  file_1_X=file_1_ext+'/'+'X.npy'\n",
        "  file_1_Y=file_1_ext+'/'+'Y.npy'\n",
        "  X_temp_np=np.concatenate((X_temp[0],X_temp[1],X_temp[2],X_temp[3],X_temp[4],X_temp[5],X_temp[6]),axis=0)\n",
        "  Y_temp_np=np.concatenate((Y_temp[0],Y_temp[1],Y_temp[2],Y_temp[3],Y_temp[4],Y_temp[5],Y_temp[6]),axis=0)\n",
        "  print(len(X_temp_np))\n",
        "  print(len(Y_temp_np))\n",
        "  np.save(file_1_X,X_temp_np)\n",
        "  np.save(file_1_Y,Y_temp_np)\n",
        "  train_list=(data_2['validate'])[i-1]\n",
        "  file_1_ext=file_1+'/validate'\n",
        "  os.mkdir(file_1_ext)\n",
        "  X_temp=[]\n",
        "  Y_temp=[]\n",
        "  for j in train_list:\n",
        "    st_index=data_1[str(j)][\"Starting\"]\n",
        "    end_index=data_1[str(j)][\"Ending\"]\n",
        "    X_temp.append(X[int(st_index):int(end_index)])\n",
        "    Y_temp.append(Y[int(st_index):int(end_index)])\n",
        "  file_1_X=file_1_ext+'/'+'X.npy'\n",
        "  file_1_Y=file_1_ext+'/'+'Y.npy'\n",
        "  X_temp_np=np.concatenate((X_temp[0],X_temp[1],X_temp[2]),axis=0)\n",
        "  Y_temp_np=np.concatenate((Y_temp[0],Y_temp[1],Y_temp[2]),axis=0)\n",
        "  print(len(X_temp_np))\n",
        "  print(len(Y_temp_np))\n",
        "  np.save(file_1_X,X_temp_np)\n",
        "  np.save(file_1_Y,Y_temp_np)\n",
        "  train_list=(data_2['test'])[i-1]\n",
        "  file_1_ext=file_1+'/test'\n",
        "  os.mkdir(file_1_ext)\n",
        "  X_temp=[]\n",
        "  Y_temp=[]\n",
        "  for j in train_list:\n",
        "    st_index=data_1[str(j)][\"Starting\"]\n",
        "    end_index=data_1[str(j)][\"Ending\"]\n",
        "    X_temp.append(X[int(st_index):int(end_index)])\n",
        "    Y_temp.append(Y[int(st_index):int(end_index)])\n",
        "  file_1_X=file_1_ext+'/'+'X.npy'\n",
        "  file_1_Y=file_1_ext+'/'+'Y.npy'\n",
        "  X_temp_np=np.concatenate((X_temp[0],X_temp[1],X_temp[2],X_temp[3]),axis=0)\n",
        "  Y_temp_np=np.concatenate((Y_temp[0],Y_temp[1],Y_temp[2],Y_temp[3]),axis=0)\n",
        "  print(len(X_temp_np))\n",
        "  print(len(Y_temp_np))\n",
        "  np.save(file_1_X,X_temp_np)\n",
        "  np.save(file_1_Y,Y_temp_np)\n",
        "  i+=1\n",
        "\n"
      ],
      "execution_count": 0,
      "outputs": [
        {
          "output_type": "stream",
          "text": [
            "372\n",
            "372\n",
            "drive/My Drive/MS_data/1\n",
            "drive/My Drive/MS_data/1/train\n",
            "165\n",
            "165\n",
            "76\n",
            "76\n",
            "117\n",
            "117\n",
            "drive/My Drive/MS_data/2\n",
            "drive/My Drive/MS_data/2/train\n",
            "159\n",
            "159\n",
            "70\n",
            "70\n",
            "129\n",
            "129\n",
            "drive/My Drive/MS_data/3\n",
            "drive/My Drive/MS_data/3/train\n",
            "209\n",
            "209\n",
            "76\n",
            "76\n",
            "73\n",
            "73\n",
            "drive/My Drive/MS_data/4\n",
            "drive/My Drive/MS_data/4/train\n",
            "181\n",
            "181\n",
            "73\n",
            "73\n",
            "104\n",
            "104\n",
            "drive/My Drive/MS_data/5\n",
            "drive/My Drive/MS_data/5/train\n",
            "187\n",
            "187\n",
            "66\n",
            "66\n",
            "105\n",
            "105\n"
          ],
          "name": "stdout"
        }
      ]
    }
  ]
}